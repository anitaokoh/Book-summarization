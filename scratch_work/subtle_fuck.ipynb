{
 "cells": [
  {
   "cell_type": "markdown",
   "metadata": {},
   "source": [
    "### Import Libraries"
   ]
  },
  {
   "cell_type": "code",
   "execution_count": 1,
   "metadata": {},
   "outputs": [],
   "source": [
    "import re\n",
    "import slate3k as slate\n",
    "import requests\n",
    "import config\n",
    "from sumy.utils import get_stop_words\n",
    "from sumy.parsers.plaintext import PlaintextParser\n",
    "from sumy.nlp.tokenizers import Tokenizer\n",
    "from sumy.nlp.stemmers import Stemmer\n",
    "from sumy.summarizers.lsa import LsaSummarizer"
   ]
  },
  {
   "cell_type": "markdown",
   "metadata": {},
   "source": [
    "#### Stategy\n",
    "Summarize three books individually\n",
    "- Clean data\n",
    "- Summarize\n",
    "- Get sentiments \n",
    "- Add to dataframe"
   ]
  },
  {
   "cell_type": "markdown",
   "metadata": {},
   "source": [
    "#### Load data"
   ]
  },
  {
   "cell_type": "code",
   "execution_count": 2,
   "metadata": {},
   "outputs": [],
   "source": [
    "with open('The Subtle Art of Not Giving a Fck - A Counterintuitive Approach to Living a Good Life (2016).pdf', 'rb') as f:\n",
    "    extracted_text = slate.PDF(f)\n",
    "    full_text =  ''.join(extracted_text)"
   ]
  },
  {
   "cell_type": "markdown",
   "metadata": {},
   "source": [
    "#### Extract and slice the book sections"
   ]
  },
  {
   "cell_type": "code",
   "execution_count": 3,
   "metadata": {},
   "outputs": [],
   "source": [
    "def extract_content_body(full_text):\n",
    "    positions = []\n",
    "    for match in re.finditer('CHAPTER 1|Acknowledgments|ACKNOWLEDGMENTS', full_text):\n",
    "          positions.append(match.span())\n",
    "    \n",
    "    content_page = full_text[positions[0][0]:positions[1][0]]\n",
    "    body_text = full_text[positions[2][0]:positions[3][0]]\n",
    "    return content_page, body_text"
   ]
  },
  {
   "cell_type": "code",
   "execution_count": 4,
   "metadata": {},
   "outputs": [],
   "source": [
    "content_page, body_text = extract_content_body(full_text)"
   ]
  },
  {
   "cell_type": "markdown",
   "metadata": {},
   "source": [
    "#### Cleaning of the content and body section"
   ]
  },
  {
   "cell_type": "code",
   "execution_count": 5,
   "metadata": {},
   "outputs": [],
   "source": [
    "def clean_content_body(content_page, body_text):\n",
    "    new_list = []\n",
    "    pattern = r'\\x0c|\\n'\n",
    "    new = content_page.split('\\n')\n",
    "    for i in new:\n",
    "        if len(i) < 2 :\n",
    "            del new[new.index(i)]\n",
    "    for i in new:\n",
    "        y = re.sub('\\x0c', '', i)\n",
    "        new_list.append(y.strip())\n",
    "    for i in new_list:\n",
    "        if len(i) < 2 :\n",
    "            del new_list[new_list.index(i)]\n",
    "    book_clean = re.sub(pattern, ' ',body_text)\n",
    "    book_clean = book_clean.replace('w ','w')\n",
    "    body_clean = ''.join(book_clean.strip(' '))\n",
    "    return new_list, body_clean"
   ]
  },
  {
   "cell_type": "code",
   "execution_count": 6,
   "metadata": {},
   "outputs": [],
   "source": [
    "new_list, body_clean = clean_content_body(content_page, body_text)"
   ]
  },
  {
   "cell_type": "markdown",
   "metadata": {},
   "source": [
    "#### Split the content into chapters and sub_chapters"
   ]
  },
  {
   "cell_type": "code",
   "execution_count": 7,
   "metadata": {},
   "outputs": [],
   "source": [
    "def split_content(new_list):\n",
    "    split_titles = []\n",
    "    sub_title = []\n",
    "    chap_title = []\n",
    "    chap_sub = []\n",
    "    for sentence in new_list:\n",
    "        if sentence.startswith('CHAPTER'):\n",
    "            new = sentence.split(':')\n",
    "            for i in new:\n",
    "                split_titles.append(i.strip())\n",
    "        else:\n",
    "            sub_title.append(sentence)\n",
    "    for title in split_titles:\n",
    "        if title.startswith('CHAPTER'):\n",
    "            chap_title.append(title)\n",
    "        else:\n",
    "            chap_sub.append(title)\n",
    "    return sub_title, chap_title, chap_sub"
   ]
  },
  {
   "cell_type": "code",
   "execution_count": 8,
   "metadata": {},
   "outputs": [],
   "source": [
    "sub_title, chap_title, chap_sub = split_content(new_list)"
   ]
  },
  {
   "cell_type": "markdown",
   "metadata": {},
   "source": [
    "### Remove the sub_topics and titles"
   ]
  },
  {
   "cell_type": "code",
   "execution_count": 9,
   "metadata": {},
   "outputs": [],
   "source": [
    "def remove_sub_titles(body_clean):\n",
    "    for sub in sub_title:\n",
    "        if sub in body_clean:\n",
    "            body_clean = body_clean.replace(sub, '')\n",
    "    for sub in chap_sub:\n",
    "        if sub in body_clean:\n",
    "            body_clean = body_clean.replace(sub, '')\n",
    "    return body_clean"
   ]
  },
  {
   "cell_type": "code",
   "execution_count": 10,
   "metadata": {},
   "outputs": [],
   "source": [
    "body_clean = remove_sub_titles(body_clean)"
   ]
  },
  {
   "cell_type": "markdown",
   "metadata": {},
   "source": [
    "#### Get the index of each chapter and Split the body of text in chapter "
   ]
  },
  {
   "cell_type": "code",
   "execution_count": 11,
   "metadata": {},
   "outputs": [],
   "source": [
    "def split_into_chapters(body_clean, chap_title):\n",
    "    post_index = []\n",
    "    info =[]\n",
    "    join_chapters = '|'.join(chap_title)\n",
    "    for match in re.finditer(join_chapters, body_clean):\n",
    "        post_index.append(match.span())\n",
    "    new_index = [i[0] for i in post_index]\n",
    "    new = list(zip(new_index[:],new_index[1:]))\n",
    "    for i in new:\n",
    "        if i == new[-1]:\n",
    "            info.append(body_clean[i[0]:i[1]])\n",
    "            info.append(body_clean[i[1]:])\n",
    "        else:\n",
    "            info.append(body_clean[i[0]:i[1]])\n",
    "    return info"
   ]
  },
  {
   "cell_type": "code",
   "execution_count": 12,
   "metadata": {},
   "outputs": [],
   "source": [
    "# post_index = split_into_chapters(body_clean, chap_title)\n",
    "# post_index"
   ]
  },
  {
   "cell_type": "code",
   "execution_count": 13,
   "metadata": {},
   "outputs": [],
   "source": [
    "info = split_into_chapters(body_clean, chap_title)"
   ]
  },
  {
   "cell_type": "markdown",
   "metadata": {},
   "source": [
    "#### Remove titles and convert the chapter title, sub_title and text body into a dictionary"
   ]
  },
  {
   "cell_type": "markdown",
   "metadata": {},
   "source": [
    "### Split the body of text in chapter "
   ]
  },
  {
   "cell_type": "code",
   "execution_count": 14,
   "metadata": {},
   "outputs": [],
   "source": [
    "def final_convert(info, chap_sub, chap_title):\n",
    "    content = []\n",
    "    for i in info:\n",
    "        new_sentence = re.sub(r\"[A-Z]+\\s\\d\", '',i)\n",
    "        new_sentence = new_sentence.strip()\n",
    "        content.append(new_sentence)\n",
    "    sub_content = list(zip(chap_sub, content))\n",
    "    subtle_fuck = dict(zip(chap_title, sub_content))\n",
    "    return subtle_fuck, content"
   ]
  },
  {
   "cell_type": "code",
   "execution_count": 15,
   "metadata": {},
   "outputs": [],
   "source": [
    "subtle_fuck, content = final_convert(info, chap_sub, chap_title)"
   ]
  },
  {
   "cell_type": "code",
   "execution_count": 16,
   "metadata": {},
   "outputs": [
    {
     "data": {
      "text/html": [
       "<div>\n",
       "<style scoped>\n",
       "    .dataframe tbody tr th:only-of-type {\n",
       "        vertical-align: middle;\n",
       "    }\n",
       "\n",
       "    .dataframe tbody tr th {\n",
       "        vertical-align: top;\n",
       "    }\n",
       "\n",
       "    .dataframe thead th {\n",
       "        text-align: right;\n",
       "    }\n",
       "</style>\n",
       "<table border=\"1\" class=\"dataframe\">\n",
       "  <thead>\n",
       "    <tr style=\"text-align: right;\">\n",
       "      <th></th>\n",
       "      <th>Title</th>\n",
       "      <th>Chapter</th>\n",
       "      <th>Sub_title</th>\n",
       "      <th>Content</th>\n",
       "    </tr>\n",
       "  </thead>\n",
       "  <tbody>\n",
       "    <tr>\n",
       "      <th>0</th>\n",
       "      <td>The Subtle Art of not giving a fuck by Mark</td>\n",
       "      <td>CHAPTER 1</td>\n",
       "      <td>Don’t Try</td>\n",
       "      <td>Charles Bukowski was an alcoholic, a womanizer...</td>\n",
       "    </tr>\n",
       "    <tr>\n",
       "      <th>1</th>\n",
       "      <td>The Subtle Art of not giving a fuck by Mark</td>\n",
       "      <td>CHAPTER 2</td>\n",
       "      <td>Happiness Is a Problem</td>\n",
       "      <td>About twenty-five hundred years ago, in the Hi...</td>\n",
       "    </tr>\n",
       "    <tr>\n",
       "      <th>2</th>\n",
       "      <td>The Subtle Art of not giving a fuck by Mark</td>\n",
       "      <td>CHAPTER 3</td>\n",
       "      <td>You Are Not Special</td>\n",
       "      <td>I once knewa guy; we’ll call him Jimmy. Jimmy ...</td>\n",
       "    </tr>\n",
       "    <tr>\n",
       "      <th>3</th>\n",
       "      <td>The Subtle Art of not giving a fuck by Mark</td>\n",
       "      <td>CHAPTER 4</td>\n",
       "      <td>The Value of Suffering</td>\n",
       "      <td>In the closing months of 1944, after almost a ...</td>\n",
       "    </tr>\n",
       "    <tr>\n",
       "      <th>4</th>\n",
       "      <td>The Subtle Art of not giving a fuck by Mark</td>\n",
       "      <td>CHAPTER 5</td>\n",
       "      <td>You Are Always Choosing</td>\n",
       "      <td>Imagine that somebody puts a gun to your head ...</td>\n",
       "    </tr>\n",
       "  </tbody>\n",
       "</table>\n",
       "</div>"
      ],
      "text/plain": [
       "                                         Title    Chapter  \\\n",
       "0  The Subtle Art of not giving a fuck by Mark  CHAPTER 1   \n",
       "1  The Subtle Art of not giving a fuck by Mark  CHAPTER 2   \n",
       "2  The Subtle Art of not giving a fuck by Mark  CHAPTER 3   \n",
       "3  The Subtle Art of not giving a fuck by Mark  CHAPTER 4   \n",
       "4  The Subtle Art of not giving a fuck by Mark  CHAPTER 5   \n",
       "\n",
       "                 Sub_title                                            Content  \n",
       "0                Don’t Try  Charles Bukowski was an alcoholic, a womanizer...  \n",
       "1   Happiness Is a Problem  About twenty-five hundred years ago, in the Hi...  \n",
       "2      You Are Not Special  I once knewa guy; we’ll call him Jimmy. Jimmy ...  \n",
       "3   The Value of Suffering  In the closing months of 1944, after almost a ...  \n",
       "4  You Are Always Choosing  Imagine that somebody puts a gun to your head ...  "
      ]
     },
     "execution_count": 16,
     "metadata": {},
     "output_type": "execute_result"
    }
   ],
   "source": [
    "import pandas as pd\n",
    "df = pd.DataFrame.from_dict(subtle_fuck, orient='index').reset_index()\n",
    "df.columns = ['Chapter','Sub_title','Content']\n",
    "df.insert(0, 'Title', 'The Subtle Art of not giving a fuck by Mark')\n",
    "df.head()"
   ]
  },
  {
   "cell_type": "markdown",
   "metadata": {},
   "source": [
    "#### summarize the content"
   ]
  },
  {
   "cell_type": "code",
   "execution_count": 17,
   "metadata": {},
   "outputs": [],
   "source": [
    "from sumy.utils import get_stop_words\n",
    "def summarize(content, language, sentence_count):\n",
    "    summary = []\n",
    "    \n",
    "    for text in content:\n",
    "        parser = PlaintextParser(text, Tokenizer(language))\n",
    "        summarizer = LsaSummarizer(Stemmer(language))\n",
    "        summarizer.stop_words = get_stop_words(language)\n",
    "        summary_l = summarizer(parser.document, sentence_count)\n",
    "        lex=[str(sentence) for sentence in summary_l]\n",
    "        sum_l= ''.join(lex)\n",
    "        summary.append(sum_l)\n",
    "    return  summary"
   ]
  },
  {
   "cell_type": "code",
   "execution_count": 18,
   "metadata": {},
   "outputs": [],
   "source": [
    "language = \"english\"\n",
    "summary_5= summarize(content, language, 5)\n",
    "summary_10 = summarize(content, language, 10)\n",
    "df['summary_5'] = summary_5\n",
    "df['summary_10'] = summary_10\n"
   ]
  },
  {
   "cell_type": "markdown",
   "metadata": {},
   "source": [
    "### To analyse the summary"
   ]
  },
  {
   "cell_type": "code",
   "execution_count": 19,
   "metadata": {},
   "outputs": [],
   "source": [
    "url = \"https://twinword-emotion-analysis-v1.p.rapidapi.com/analyze/\"\n",
    "headers = {\n",
    "    'x-rapidapi-host': \"twinword-emotion-analysis-v1.p.rapidapi.com\",\n",
    "    'x-rapidapi-key': config.api_key\n",
    "    }\n",
    "def emotion_analysis(summary):\n",
    "    emo = []\n",
    "   \n",
    "    for s in summary:\n",
    "        querystring = {\"text\":s}\n",
    "        response = requests.request(\"GET\", url, headers=headers, params=querystring)\n",
    "        text_dic = response.text\n",
    "        emo.append(text_dic)\n",
    "    \n",
    "#       \n",
    "    return emo"
   ]
  },
  {
   "cell_type": "code",
   "execution_count": 20,
   "metadata": {},
   "outputs": [],
   "source": [
    "emo_5= emotion_analysis(summary_5)\n",
    "emo_10= emotion_analysis(summary_10)"
   ]
  },
  {
   "cell_type": "markdown",
   "metadata": {},
   "source": [
    "### To clean the emotion dictionary"
   ]
  },
  {
   "cell_type": "code",
   "execution_count": 21,
   "metadata": {},
   "outputs": [],
   "source": [
    "def clean_sentiments(emo):\n",
    "    great = []\n",
    "    for i in emo:\n",
    "            new = re.search('\\[.*?\\]',i)\n",
    "            j = i[new.start():new.end()]\n",
    "            new_text = re.search('\\w+', j)\n",
    "            if new_text == None:\n",
    "                great.append('no emotion detected')\n",
    "            else:\n",
    "                great.append(str(new_text.group()))\n",
    "    return great"
   ]
  },
  {
   "cell_type": "code",
   "execution_count": 23,
   "metadata": {},
   "outputs": [],
   "source": [
    "great_5 = clean_sentiments(emo_5)\n",
    "great_10 = clean_sentiments(emo_10)\n",
    "df['emotion_analysis_5'] = great_5\n",
    "df['emotion_analysis_10'] = great_10"
   ]
  },
  {
   "cell_type": "code",
   "execution_count": 24,
   "metadata": {},
   "outputs": [
    {
     "data": {
      "text/html": [
       "<div>\n",
       "<style scoped>\n",
       "    .dataframe tbody tr th:only-of-type {\n",
       "        vertical-align: middle;\n",
       "    }\n",
       "\n",
       "    .dataframe tbody tr th {\n",
       "        vertical-align: top;\n",
       "    }\n",
       "\n",
       "    .dataframe thead th {\n",
       "        text-align: right;\n",
       "    }\n",
       "</style>\n",
       "<table border=\"1\" class=\"dataframe\">\n",
       "  <thead>\n",
       "    <tr style=\"text-align: right;\">\n",
       "      <th></th>\n",
       "      <th>Title</th>\n",
       "      <th>Chapter</th>\n",
       "      <th>Sub_title</th>\n",
       "      <th>Content</th>\n",
       "      <th>summary_5</th>\n",
       "      <th>summary_10</th>\n",
       "      <th>emotion_analysis_5</th>\n",
       "      <th>emotion_analysis_10</th>\n",
       "    </tr>\n",
       "  </thead>\n",
       "  <tbody>\n",
       "    <tr>\n",
       "      <th>0</th>\n",
       "      <td>The Subtle Art of not giving a fuck by Mark</td>\n",
       "      <td>CHAPTER 1</td>\n",
       "      <td>Don’t Try</td>\n",
       "      <td>Charles Bukowski was an alcoholic, a womanizer...</td>\n",
       "      <td>Everyone and their TV commercial wants you to ...</td>\n",
       "      <td>Everyone and their TV commercial wants you to ...</td>\n",
       "      <td>fear</td>\n",
       "      <td>sadness</td>\n",
       "    </tr>\n",
       "    <tr>\n",
       "      <th>1</th>\n",
       "      <td>The Subtle Art of not giving a fuck by Mark</td>\n",
       "      <td>CHAPTER 2</td>\n",
       "      <td>Happiness Is a Problem</td>\n",
       "      <td>About twenty-five hundred years ago, in the Hi...</td>\n",
       "      <td>He’d wear a cheesy eye mask and a shirt (with ...</td>\n",
       "      <td>He’d wear a cheesy eye mask and a shirt (with ...</td>\n",
       "      <td>joy</td>\n",
       "      <td>no emotion detected</td>\n",
       "    </tr>\n",
       "    <tr>\n",
       "      <th>2</th>\n",
       "      <td>The Subtle Art of not giving a fuck by Mark</td>\n",
       "      <td>CHAPTER 3</td>\n",
       "      <td>You Are Not Special</td>\n",
       "      <td>I once knewa guy; we’ll call him Jimmy. Jimmy ...</td>\n",
       "      <td>On any given day, if you asked him what he was...</td>\n",
       "      <td>On any given day, if you asked him what he was...</td>\n",
       "      <td>joy</td>\n",
       "      <td>joy</td>\n",
       "    </tr>\n",
       "    <tr>\n",
       "      <th>3</th>\n",
       "      <td>The Subtle Art of not giving a fuck by Mark</td>\n",
       "      <td>CHAPTER 4</td>\n",
       "      <td>The Value of Suffering</td>\n",
       "      <td>In the closing months of 1944, after almost a ...</td>\n",
       "      <td>Born after the war ended, he had dropped out o...</td>\n",
       "      <td>Born after the war ended, he had dropped out o...</td>\n",
       "      <td>joy</td>\n",
       "      <td>sadness</td>\n",
       "    </tr>\n",
       "    <tr>\n",
       "      <th>4</th>\n",
       "      <td>The Subtle Art of not giving a fuck by Mark</td>\n",
       "      <td>CHAPTER 5</td>\n",
       "      <td>You Are Always Choosing</td>\n",
       "      <td>Imagine that somebody puts a gun to your head ...</td>\n",
       "      <td>Nowimagine that you bought nice shoes and runn...</td>\n",
       "      <td>Nowimagine that you bought nice shoes and runn...</td>\n",
       "      <td>anger</td>\n",
       "      <td>anger</td>\n",
       "    </tr>\n",
       "    <tr>\n",
       "      <th>5</th>\n",
       "      <td>The Subtle Art of not giving a fuck by Mark</td>\n",
       "      <td>CHAPTER 6</td>\n",
       "      <td>You’re Wrong About Everything (But So Am I)</td>\n",
       "      <td>Five hundred years ago cartographers believed ...</td>\n",
       "      <td>As she describes in her autobiography, My Lie:...</td>\n",
       "      <td>Beliefs of this sort—that I’m not attractive e...</td>\n",
       "      <td>surprise</td>\n",
       "      <td>joy</td>\n",
       "    </tr>\n",
       "    <tr>\n",
       "      <th>6</th>\n",
       "      <td>The Subtle Art of not giving a fuck by Mark</td>\n",
       "      <td>CHAPTER 7</td>\n",
       "      <td>Failure Is the Way Forward</td>\n",
       "      <td>I really mean it when I say it: I was fortunat...</td>\n",
       "      <td>When you’re sleeping on a smelly futon and hav...</td>\n",
       "      <td>I spent the next six months living on a friend...</td>\n",
       "      <td>no emotion detected</td>\n",
       "      <td>joy</td>\n",
       "    </tr>\n",
       "    <tr>\n",
       "      <th>7</th>\n",
       "      <td>The Subtle Art of not giving a fuck by Mark</td>\n",
       "      <td>CHAPTER 8</td>\n",
       "      <td>The Importance of Saying No</td>\n",
       "      <td>In 2009, I gathered up all my possessions, sol...</td>\n",
       "      <td>Ultimately, the only way to achieve meaning an...</td>\n",
       "      <td>Armed with this grandiose sense of connectivit...</td>\n",
       "      <td>fear</td>\n",
       "      <td>fear</td>\n",
       "    </tr>\n",
       "    <tr>\n",
       "      <th>8</th>\n",
       "      <td>The Subtle Art of not giving a fuck by Mark</td>\n",
       "      <td>CHAPTER 9</td>\n",
       "      <td>. . . And Then You Die</td>\n",
       "      <td>Seek the truth for yourself, and I will meet y...</td>\n",
       "      <td>Whether it be through mastering an art form, c...</td>\n",
       "      <td>At the time, Zen was seen as something for hip...</td>\n",
       "      <td>sadness</td>\n",
       "      <td>fear</td>\n",
       "    </tr>\n",
       "  </tbody>\n",
       "</table>\n",
       "</div>"
      ],
      "text/plain": [
       "                                         Title    Chapter  \\\n",
       "0  The Subtle Art of not giving a fuck by Mark  CHAPTER 1   \n",
       "1  The Subtle Art of not giving a fuck by Mark  CHAPTER 2   \n",
       "2  The Subtle Art of not giving a fuck by Mark  CHAPTER 3   \n",
       "3  The Subtle Art of not giving a fuck by Mark  CHAPTER 4   \n",
       "4  The Subtle Art of not giving a fuck by Mark  CHAPTER 5   \n",
       "5  The Subtle Art of not giving a fuck by Mark  CHAPTER 6   \n",
       "6  The Subtle Art of not giving a fuck by Mark  CHAPTER 7   \n",
       "7  The Subtle Art of not giving a fuck by Mark  CHAPTER 8   \n",
       "8  The Subtle Art of not giving a fuck by Mark  CHAPTER 9   \n",
       "\n",
       "                                     Sub_title  \\\n",
       "0                                    Don’t Try   \n",
       "1                       Happiness Is a Problem   \n",
       "2                          You Are Not Special   \n",
       "3                       The Value of Suffering   \n",
       "4                      You Are Always Choosing   \n",
       "5  You’re Wrong About Everything (But So Am I)   \n",
       "6                   Failure Is the Way Forward   \n",
       "7                  The Importance of Saying No   \n",
       "8                       . . . And Then You Die   \n",
       "\n",
       "                                             Content  \\\n",
       "0  Charles Bukowski was an alcoholic, a womanizer...   \n",
       "1  About twenty-five hundred years ago, in the Hi...   \n",
       "2  I once knewa guy; we’ll call him Jimmy. Jimmy ...   \n",
       "3  In the closing months of 1944, after almost a ...   \n",
       "4  Imagine that somebody puts a gun to your head ...   \n",
       "5  Five hundred years ago cartographers believed ...   \n",
       "6  I really mean it when I say it: I was fortunat...   \n",
       "7  In 2009, I gathered up all my possessions, sol...   \n",
       "8  Seek the truth for yourself, and I will meet y...   \n",
       "\n",
       "                                           summary_5  \\\n",
       "0  Everyone and their TV commercial wants you to ...   \n",
       "1  He’d wear a cheesy eye mask and a shirt (with ...   \n",
       "2  On any given day, if you asked him what he was...   \n",
       "3  Born after the war ended, he had dropped out o...   \n",
       "4  Nowimagine that you bought nice shoes and runn...   \n",
       "5  As she describes in her autobiography, My Lie:...   \n",
       "6  When you’re sleeping on a smelly futon and hav...   \n",
       "7  Ultimately, the only way to achieve meaning an...   \n",
       "8  Whether it be through mastering an art form, c...   \n",
       "\n",
       "                                          summary_10   emotion_analysis_5  \\\n",
       "0  Everyone and their TV commercial wants you to ...                 fear   \n",
       "1  He’d wear a cheesy eye mask and a shirt (with ...                  joy   \n",
       "2  On any given day, if you asked him what he was...                  joy   \n",
       "3  Born after the war ended, he had dropped out o...                  joy   \n",
       "4  Nowimagine that you bought nice shoes and runn...                anger   \n",
       "5  Beliefs of this sort—that I’m not attractive e...             surprise   \n",
       "6  I spent the next six months living on a friend...  no emotion detected   \n",
       "7  Armed with this grandiose sense of connectivit...                 fear   \n",
       "8  At the time, Zen was seen as something for hip...              sadness   \n",
       "\n",
       "   emotion_analysis_10  \n",
       "0              sadness  \n",
       "1  no emotion detected  \n",
       "2                  joy  \n",
       "3              sadness  \n",
       "4                anger  \n",
       "5                  joy  \n",
       "6                  joy  \n",
       "7                 fear  \n",
       "8                 fear  "
      ]
     },
     "execution_count": 24,
     "metadata": {},
     "output_type": "execute_result"
    }
   ],
   "source": [
    "df"
   ]
  },
  {
   "cell_type": "code",
   "execution_count": 25,
   "metadata": {},
   "outputs": [],
   "source": [
    "df.to_csv('book_df.csv')"
   ]
  },
  {
   "cell_type": "code",
   "execution_count": null,
   "metadata": {},
   "outputs": [],
   "source": []
  }
 ],
 "metadata": {
  "kernelspec": {
   "display_name": "Python 3",
   "language": "python",
   "name": "python3"
  },
  "language_info": {
   "codemirror_mode": {
    "name": "ipython",
    "version": 3
   },
   "file_extension": ".py",
   "mimetype": "text/x-python",
   "name": "python",
   "nbconvert_exporter": "python",
   "pygments_lexer": "ipython3",
   "version": "3.7.4"
  }
 },
 "nbformat": 4,
 "nbformat_minor": 4
}
