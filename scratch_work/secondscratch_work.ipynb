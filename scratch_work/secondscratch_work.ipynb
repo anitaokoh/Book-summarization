{
 "cells": [
  {
   "cell_type": "code",
   "execution_count": 1,
   "metadata": {},
   "outputs": [],
   "source": [
    "import re\n",
    "import slate3k as slate\n"
   ]
  },
  {
   "cell_type": "code",
   "execution_count": 2,
   "metadata": {},
   "outputs": [],
   "source": [
    "with open('The Subtle Art of Not Giving a Fck - A Counterintuitive Approach to Living a Good Life (2016).pdf', 'rb') as f:\n",
    "     extracted_text = slate.PDF(f)"
   ]
  },
  {
   "cell_type": "code",
   "execution_count": 3,
   "metadata": {},
   "outputs": [],
   "source": [
    "full_text =  ''.join(extracted_text)"
   ]
  },
  {
   "cell_type": "code",
   "execution_count": 4,
   "metadata": {},
   "outputs": [
    {
     "data": {
      "text/plain": [
       "'CHAPTER 1: Don’t Try\\nThe Feedback Loop from Hell\\nThe Subtle Art of Not Giving a Fuck\\nSo Mark, What the Fuck Is the Point of This Book Anyway?\\n\\nCHAPTER 2: Happiness Is a Problem\\nThe Misadventures of Disappointment Panda\\nHappiness Comes from Solving Problems\\nEmotions Are Overrated\\nChoose Your Struggle\\n\\nCHAPTER 3: You Are Not Special\\nThings Fall Apart\\nThe Tyranny of Exceptionalism\\nB-b-b-but, If I’m Not Going to Be Special or Extraordinary, What’s the Point?\\n\\nCHAPTER 4: The Value of Suffering\\nThe Self-Awareness Onion\\nRock Star Problems\\nShitty Values\\nDefining Good and Bad Values\\n\\nCHAPTER 5: You Are Always Choosing\\nThe Choice\\nThe Responsibility/Fault Fallacy\\nResponding to Tragedy\\nGenetics and the Hand We’re Dealt\\nVictimhood Chic\\nThere Is No “How”\\n\\nCHAPTER 6: You’re Wrong About Everything (But So Am I)\\nArchitects of Our Own Beliefs\\nBe Careful What You Believe\\nThe Dangers of Pure Certainty\\nManson’s Law of Avoidance\\nKill Yourself\\nHow to Be a Little Less Certain of Yourself\\n\\nCHAPTER 7: Failure Is the Way Forward\\n\\n\\x0cThe Failure/Success Paradox\\nPain Is Part of the Process\\nThe “Do Something” Principle\\n\\nCHAPTER 8: The Importance of Saying No\\nRejection Makes Your Life Better\\nBoundaries\\nHow to Build Trust\\nFreedom Through Commitment\\n\\nCHAPTER 9: . . . And Then You Die\\nSomething Beyond Our Selves\\nThe Sunny Side of Death\\n\\n'"
      ]
     },
     "execution_count": 4,
     "metadata": {},
     "output_type": "execute_result"
    }
   ],
   "source": [
    "positions = []\n",
    "for match in re.finditer('CHAPTER 1|Acknowledgments|ACKNOWLEDGMENTS', full_text):\n",
    "    positions.append(match.span())\n",
    "    \n",
    "content_page = full_text[positions[0][0]:positions[1][0]]\n",
    "content_page"
   ]
  },
  {
   "cell_type": "code",
   "execution_count": 5,
   "metadata": {},
   "outputs": [],
   "source": [
    "new = content_page.split('\\n')\n",
    "for i in new:\n",
    "    if len(i) < 2 :\n",
    "        del new[new.index(i)]"
   ]
  },
  {
   "cell_type": "code",
   "execution_count": 6,
   "metadata": {},
   "outputs": [],
   "source": [
    "new_list = []\n",
    "for i in new:\n",
    "    y = re.sub('\\x0c', '', i)\n",
    "    new_list.append(y.strip())"
   ]
  },
  {
   "cell_type": "code",
   "execution_count": 7,
   "metadata": {},
   "outputs": [],
   "source": [
    "chapters_title = []\n",
    "sub_title = []\n",
    "for sentence in new_list:\n",
    "    if sentence.startswith('CHAPTER'):\n",
    "        new1 = sentence.replace(':',' ')\n",
    "        chapters_title.append(new1)\n",
    "    else:\n",
    "        sub_title.append(sentence)"
   ]
  },
  {
   "cell_type": "code",
   "execution_count": 8,
   "metadata": {},
   "outputs": [
    {
     "data": {
      "text/plain": [
       "[(12, 21), (1335, 1350), (1408, 1417), (310811, 310826)]"
      ]
     },
     "execution_count": 8,
     "metadata": {},
     "output_type": "execute_result"
    }
   ],
   "source": [
    "positions"
   ]
  },
  {
   "cell_type": "code",
   "execution_count": 9,
   "metadata": {},
   "outputs": [],
   "source": [
    "body_text = full_text[positions[2][0]:positions[3][0]]"
   ]
  },
  {
   "cell_type": "code",
   "execution_count": 10,
   "metadata": {},
   "outputs": [],
   "source": [
    "pattern = r'\\x0c|\\n'\n",
    "book_clean = re.sub(pattern, ' ',body_text)\n",
    "book_clean = book_clean.replace('w ','w')\n",
    "body_clean = ''.join(book_clean.strip(' '))"
   ]
  },
  {
   "cell_type": "code",
   "execution_count": 11,
   "metadata": {},
   "outputs": [],
   "source": [
    "for sub in sub_title:\n",
    "    if sub in body_clean:\n",
    "        body_clean = body_clean.replace(sub, '')"
   ]
  },
  {
   "cell_type": "code",
   "execution_count": 12,
   "metadata": {},
   "outputs": [],
   "source": [
    "split_titles = []\n",
    "for sentence in new_list:\n",
    "    if sentence.startswith('CHAPTER'):\n",
    "        new = sentence.split(':')\n",
    "        for i in new:\n",
    "            split_titles.append(i.strip())"
   ]
  },
  {
   "cell_type": "code",
   "execution_count": 13,
   "metadata": {},
   "outputs": [],
   "source": [
    "chap_title = []\n",
    "chap_sub = []\n",
    "for title in split_titles:\n",
    "    if title.startswith('CHAPTER'):\n",
    "        chap_title.append(title)\n",
    "    else:\n",
    "        chap_sub.append(title)"
   ]
  },
  {
   "cell_type": "code",
   "execution_count": 14,
   "metadata": {},
   "outputs": [],
   "source": [
    "for sub in chap_sub:\n",
    "    if sub in body_clean:\n",
    "        body_clean = body_clean.replace(sub, '')"
   ]
  },
  {
   "cell_type": "code",
   "execution_count": 15,
   "metadata": {},
   "outputs": [],
   "source": [
    "join_chapters = '|'.join(chap_title)"
   ]
  },
  {
   "cell_type": "code",
   "execution_count": 16,
   "metadata": {},
   "outputs": [
    {
     "data": {
      "text/plain": [
       "'CHAPTER 1|CHAPTER 2|CHAPTER 3|CHAPTER 4|CHAPTER 5|CHAPTER 6|CHAPTER 7|CHAPTER 8|CHAPTER 9'"
      ]
     },
     "execution_count": 16,
     "metadata": {},
     "output_type": "execute_result"
    }
   ],
   "source": [
    "join_chapters"
   ]
  },
  {
   "cell_type": "code",
   "execution_count": 17,
   "metadata": {},
   "outputs": [],
   "source": [
    "# post_index = []\n",
    "# for match in re.finditer(join_chapters, body_clean):\n",
    "#     post_index.append(match.span())\n",
    "    \n",
    "post_index = []\n",
    "for match in re.finditer(r\"[A-Z]+\\s\\d\", body_clean):\n",
    "    post_index.append(match.span())"
   ]
  },
  {
   "cell_type": "code",
   "execution_count": 18,
   "metadata": {},
   "outputs": [
    {
     "data": {
      "text/plain": [
       "9"
      ]
     },
     "execution_count": 18,
     "metadata": {},
     "output_type": "execute_result"
    }
   ],
   "source": [
    "len(post_index)"
   ]
  },
  {
   "cell_type": "code",
   "execution_count": 19,
   "metadata": {},
   "outputs": [],
   "source": [
    "new_index = [i[0] for i in post_index]"
   ]
  },
  {
   "cell_type": "code",
   "execution_count": 20,
   "metadata": {},
   "outputs": [
    {
     "data": {
      "text/plain": [
       "[0, 31886, 58633, 91287, 130781, 167641, 214218, 238319, 276732]"
      ]
     },
     "execution_count": 20,
     "metadata": {},
     "output_type": "execute_result"
    }
   ],
   "source": [
    "new_index"
   ]
  },
  {
   "cell_type": "code",
   "execution_count": 21,
   "metadata": {},
   "outputs": [],
   "source": [
    "new = list(zip(new_index[:],new_index[1:]))"
   ]
  },
  {
   "cell_type": "code",
   "execution_count": 22,
   "metadata": {},
   "outputs": [
    {
     "data": {
      "text/plain": [
       "[(0, 31886),\n",
       " (31886, 58633),\n",
       " (58633, 91287),\n",
       " (91287, 130781),\n",
       " (130781, 167641),\n",
       " (167641, 214218),\n",
       " (214218, 238319),\n",
       " (238319, 276732)]"
      ]
     },
     "execution_count": 22,
     "metadata": {},
     "output_type": "execute_result"
    }
   ],
   "source": [
    "new"
   ]
  },
  {
   "cell_type": "code",
   "execution_count": 23,
   "metadata": {},
   "outputs": [
    {
     "data": {
      "text/plain": [
       "[(0, 9),\n",
       " (31886, 31895),\n",
       " (58633, 58642),\n",
       " (91287, 91296),\n",
       " (130781, 130790),\n",
       " (167641, 167650),\n",
       " (214218, 214227),\n",
       " (238319, 238328),\n",
       " (276732, 276741)]"
      ]
     },
     "execution_count": 23,
     "metadata": {},
     "output_type": "execute_result"
    }
   ],
   "source": [
    "post_index"
   ]
  },
  {
   "cell_type": "code",
   "execution_count": 24,
   "metadata": {},
   "outputs": [],
   "source": [
    "info =[]\n",
    "for i in new:\n",
    "    if i == new[-1]:\n",
    "        info.append(body_clean[i[0]:i[1]])\n",
    "        info.append(body_clean[i[1]:])\n",
    "    else:\n",
    "        info.append(body_clean[i[0]:i[1]])\n"
   ]
  },
  {
   "cell_type": "code",
   "execution_count": 33,
   "metadata": {},
   "outputs": [
    {
     "data": {
      "text/plain": [
       "'CHAPTER 1    Charles Bukowski was an alcoholic, a womanizer, a chronic gambler, a lout, a cheapskate, a deadbeat, and on his worst days, a poet. He’s probably the last person on earth you would ever look to for life advice or expect to see in any sort of self-help book. Which is why he’s the perfect place to start. Bukowski wanted to be a writer. But for decades his work was rejected by almost every magazine, newspaper, journal, agent, and publisher he submitted to. His work was horrible, they said. Crude. Disgusting. Depraved. And as the stacks of rejection slips piled up, the weight of his failures pushed him deep into an alcohol-fueled depression that would followhim for most of his life. Bukowski had a day job as a letter-filer at a post office. He got paid shit money and spent most of it on booze. He gambled away the rest at the racetrack. At night, he would drink alone and sometimes hammer out poetry on his beat-up old typewriter. Often, he’d wake up on the floor, having passed out the night before. Thirty years went by like this, most of it a meaningless blur of alcohol, drugs, gambling, and prostitutes. Then, when Bukowski was fifty, after a lifetime of failure and self-loathing, an editor at a small independent publishing house took a strange interest in him. The editor couldn’t offer Bukowski much money or much promise of sales. But he had a weird affection for the drunk loser, so he decided to take a chance on him. It was the first real shot Bukowski had ever gotten, and, he realized, probably the only one he would ever get. Bukowski wrote back to the editor: “I have one of two choices—stay in the post office and go crazy . . . or stay out here and play at writer and starve. I have decided to starve.” Upon signing the contract, Bukowski wrote his first novel in three weeks. It was called simply Post Office. In the dedication, he wrote, “Dedicated to nobody.” Bukowski would make it as a novelist and poet. He would go on and publish six novels and hundreds of poems, selling over two million copies of his books. His popularity defied everyone’s expectations, particularly his own. Stories like Bukowski’s are the bread and butter of our cultural narrative. Bukowski’s life embodies the American Dream: a man fights for what he wants, never gives up, and eventually achieves his wildest dreams. It’s practically a movie waiting to happen. We all look at stories like Bukowski’s and say, “See? He never gave up. He never stopped trying. He always believed in himself. He persisted against all the odds and made something of himself!” It is then strange that on Bukowski’s tombstone, the epitaph reads: “Don’t try.” See, despite the book sales and the fame, Bukowski was a loser. He knewit. And his success stemmed not from some determination to be a winner, but from the fact that he knewhe was a loser,   accepted it, and then wrote honestly about it. He never tried to be anything other than what he was. The genius in Bukowski’s work was not in overcoming unbelievable odds or developing himself into a shining literary light. It was the opposite. It was his simple ability to be completely, unflinchingly honest with himself—especially  the worst parts of himself—and  to share his failings without hesitation or doubt. This is the real story of Bukowski’s success: his comfort with himself as a failure. Bukowski didn’t give a fuck about success. Even after his fame, he still showed up to poetry readings hammered and verbally abused people in his audience. He still exposed himself in public and tried to sleep with every woman he could find. Fame and success didn’t make him a better person. Nor was it by becoming a better person that he became famous and successful. Self-improvement and success often occur together. But that doesn’t necessarily mean they’re the same thing. Our culture today is obsessively focused on unrealistically positive expectations: Be happier. Be healthier. Be the best, better than the rest. Be smarter, faster, richer, sexier, more popular, more productive, more envied, and more admired. Be perfect and amazing and crap out twelve-karat-gold nuggets before breakfast each morning while kissing your selfie-ready spouse and two and a half kids goodbye. Then fly your helicopter to your wonderfully fulfilling job, where you spend your days doing incredibly meaningful work that’s likely to save the planet one day. But when you stop and really think about it, conventional life advice—all the positive and happy self-help stuff we hear all the time—is actually fixating on what you lack. It lasers in on what you  perceive your personal shortcomings and failures to already be, and then emphasizes them for you.  You learn about the best ways to make money because you feel you don’t have enough money already. You stand in front of the mirror and repeat affirmations saying that you’re beautiful because you feel as though you’re not beautiful already. You followdating and relationship advice because you feel that you’re unlovable already. You try goofy visualization exercises about being more successful because you feel as though you aren’t successful enough already. Ironically, this fixation on the positive—on what’s better, what’s superior—only serves to remind us over and over again of what we are not, of what we lack, of what we should have been but failed to be. After all, no truly happy person feels the need to stand in front of a mirror and recite that she’s happy. She just is. There’s a saying in Texas: “The smallest dog barks the loudest.” A confident man doesn’t feel a need to prove that he’s confident. A rich woman doesn’t feel a need to convince anybody that she’s rich. Either you are or you are not. And if you’re dreaming of something all the time, then you’re reinforcing the same unconscious reality over and over: that you are not that. Everyone and their TV commercial wants you to believe that the key to a good life is a nicer job, or a more rugged car, or a prettier girlfriend, or a hot tub with an inflatable pool for the kids. The world is constantly telling you that the path to a better life is more, more, more—buy more, own more, make more, fuck more, be more. You are constantly bombarded with messages to give a fuck about everything, all the time. Give a fuck about a newTV. Give a fuck about having a better vacation than your coworkers. Give a fuck about buying that newlawn ornament. Give a fuck about having the right kind of selfie stick. Why? My guess: because giving a fuck about more stuff is good for business. And while there’s nothing wrong with good business, the problem is that giving too many fucks is   bad for your mental health. It causes you to become overly attached to the superficial and fake, to dedicate your life to chasing a mirage of happiness and satisfaction. The key to a good life is not giving a fuck about more; it’s giving a fuck about less, giving a fuck about only what is true and immediate and important.    There’s an insidious quirk to your brain that, if you let it, can drive you absolutely batty. Tell me if this sounds familiar to you: You get anxious about confronting somebody in your life. That anxiety cripples you and you start wondering why you’re so anxious. Nowyou’re becoming anxious about being anxious. Oh no! Doubly anxious! Nowyou’re anxious about your anxiety, which is causing more anxiety. Quick, where’s the whiskey? Or let’s say you have an anger problem. You get pissed off at the stupidest, most inane stuff, and you have no idea why. And the fact that you get pissed off so easily starts to piss you off even more. And then, in your petty rage, you realize that being angry all the time makes you a shallowand mean person, and you hate this; you hate it so much that you get angry at yourself. Nowlook at you: you’re angry at yourself getting angry about being angry. Fuck you, wall. Here, have a fist. Or you’re so worried about doing the right thing all the time that you become worried about howmuch you’re worrying. Or you feel so guilty for every mistake you make that you begin to feel guilty about howguilty you’re feeling. Or you get sad and alone so often that it makes you feel even more sad and alone just thinking about it. Welcome to the Feedback Loop from Hell. Chances are you’ve engaged in it more than a fewtimes. Maybe you’re engaging in it right now: “God, I do the Feedback Loop all the time—I’m such a loser for doing it. I should stop. Oh my God, I feel like such a loser for calling myself a loser. I should stop calling myself a loser. Ah, fuck! I’m doing it again! See? I’m a loser! Argh!” Calm down, amigo. Believe it or not, this is part of the beauty of being human. Very fewanimals on earth have the ability to think cogent thoughts to begin with, but we humans have the luxury of being able to have thoughts about our thoughts. So I can think about watching Miley Cyrus videos on YouTube, and then immediately think about what a sicko I am for wanting to watch Miley Cyrus videos on YouTube. Ah, the miracle of consciousness! Nowhere’s the problem: Our society today, through the wonders of consumer culture and hey- look-my-life-is-cooler-than-yours social media, has bred a whole generation of people who believe that having these negative experiences—anxiety, fear, guilt, etc.—is totally not okay. I mean, if you look at your Facebook feed, everybody there is having a fucking grand old time. Look, eight people got married this week! And some sixteen-year-old on TV got a Ferrari for her birthday. And another kid just made two billion dollars inventing an app that automatically delivers you more toilet paper when you run out. Meanwhile, you’re stuck at home flossing your cat. And you can’t help but think your life sucks even more than you thought.  has become a borderline epidemic, making many of us overly stressed, overly neurotic, and overly self-loathing. Back in Grandpa’s day, he would feel like shit and think to himself, “Gee whiz, I sure do feel like   me?  a cowturd today. But hey, I guess that’s just life. Back to shoveling hay.” But now? Nowif you feel like shit for even five minutes, you’re bombarded with 350 images of people totally happy and having amazing fucking lives, and it’s impossible to not feel like there’s something wrong with you. It’s this last part that gets us into trouble. We feel bad about feeling bad. We feel guilty for feeling guilty. We get angry about getting angry. We get anxious about feeling anxious. What is wrong with  This is why not giving a fuck is so key. This is why it’s going to save the world. And it’s going to save it by accepting that the world is totally fucked and that’s all right, because it’s always been that way, and always will be. By not giving a fuck that you feel bad, you short-circuit the Feedback Loop from Hell; you say to yourself, “I feel like shit, but who gives a fuck?” And then, as if sprinkled by magic fuck-giving fairy dust, you stop hating yourself for feeling so bad. George Orwell said that to see what’s in front of one’s nose requires a constant struggle. Well, the solution to our stress and anxiety is right there in front of our noses, and we’re too busy watching porn and advertisements for ab machines that don’t work, wondering why we’re not banging a hot blonde with a rocking six-pack, to notice. We joke online about “first-world problems,” but we really have become victims of our own success. Stress-related health issues, anxiety disorders, and cases of depression have skyrocketed over the past thirty years, despite the fact that everyone has a flat-screen TV and can have their groceries delivered. Our crisis is no longer material; it’s existential, it’s spiritual. We have so much fucking stuff and so many opportunities that we don’t even knowwhat to give a fuck about anymore. Because there’s an infinite amount of things we can nowsee or know, there are also an infinite number of ways we can discover that we don’t measure up, that we’re not good enough, that things aren’t as great as they could be. And this rips us apart inside. Because here’s the thing that’s wrong with all of the “Howto Be Happy” shit that’s been shared eight million times on Facebook in the past fewyears—here’s what nobody realizes about all of this crap:  The de sire  for more positive e xpe rie nce  is  itse lf a ne gative e xpe rie nce . And, paradoxically,  the acce ptance of one ’s ne gative e xpe rie nce  is  itse lf a positive e xpe rie nce .  This is a total mind-fuck. So I’ll give you a minute to unpretzel your brain and maybe read that  again: Wanting positive experience is a negative experience; accepting negative experience is a  positive experience. It’s what the philosopher Alan Watts used to refer to as “the backwards law”— the idea that the more you pursue feeling better all the time, the less satisfied you become, as pursuing something only reinforces the fact that you lack it in the first place. The more you desperately want to be rich, the more poor and unworthy you feel, regardless of howmuch money you actually make. The more you desperately want to be sexy and desired, the uglier you come to see yourself, regardless of your actual physical appearance. The more you desperately want to be happy and loved, the lonelier and more afraid you become, regardless of those who surround you. The more you want to be spiritually enlightened, the more self-centered and shallowyou become in trying to get there.   It’s like this one time I tripped on acid and it felt like the more I walked toward a house, the farther away  the house got from me. And yes, I  just used my LSD hallucinations  to make a philosophical point about happiness. No fucks given. As the existential philosopher Albert Camus said (and I’m pretty sure he wasn’t on LSD at the time): “You will never be happy if you continue to search for what happiness consists of. You will never live if you are looking for the meaning of life.” Or put more simply: Don’t try. Now, I knowwhat you’re saying: “Mark, this is making my nipples all hard, but what about the Camaro I’ve been saving up for? What about the beach body I’ve been starving myself for? After all, I paid a lot of money for that ab machine! What about the big house on the lake I’ve been dreaming of? If I stop giving a fuck about those things—well, then I’ll never achieve anything. I don’t want that to happen, do I?” So glad you asked. Ever notice that sometimes when you care less about something, you do better at it? Notice howit’s often the person who is the least invested in the success of something that actually ends up achieving it? Notice howsometimes when you stop giving a fuck, everything seems to fall into place? What’s with that? What’s interesting about the backwards lawis that it’s called “backwards” for a reason: not giving a fuck works in reverse. If pursuing the positive is a negative, then pursuing the negative generates the positive. The pain you pursue in the gym results in better all-around health and energy. The failures in business are what lead to a better understanding of what’s necessary to be successful. Being open with your insecurities paradoxically makes you more confident and charismatic around others. The pain of honest confrontation is what generates the greatest trust and respect in your relationships. Suffering through your fears and anxieties is what allows you to build courage and perseverance. Seriously, I could keep going, but you get the point. Everything worthwhile in life is won through surmounting the associated negative experience. Any attempt to escape the negative, to avoid it or quash it or silence it, only backfires. The avoidance of suffering is a form of suffering. The avoidance of struggle is a struggle. The denial of failure is a failure. Hiding what is shameful is itself a form of shame. Pain is an inextricable thread in the fabric of life, and to tear it out is not only impossible, but destructive: attempting to tear it out unravels everything else with it. To try to avoid pain is to give too many fucks about pain. In contrast, if you’re able to not give a fuck about the pain, you become unstoppable. In my life, I have given a fuck about many things. I have also not given a fuck about many things. And like the road not taken, it was the fucks not given that made all the difference. Chances are you knowsomebody in your life who, at one time or another, did not give a fuck and then went on to accomplish amazing feats. Perhaps there was a time in your own life when you simply did not give a fuck and excelled to some extraordinary height. For myself, quitting my day job in finance after only six weeks to start an Internet business ranks pretty high up there in my own “didn’t give a fuck” hall of fame. Same with deciding to sell most of my possessions and move to South America. Fucks given? None. Just went and did it.   These moments of non-fuckery are the moments that most define our lives. The major switch in careers; the spontaneous choice to drop out of college and join a rock band; the decision to finally dump that deadbeat boyfriend whom you caught wearing your pantyhose a fewtoo many times. To not give a fuck is to stare down life’s most terrifying and difficult challenges and still take action. While not giving a fuck may seem simple on the surface, it’s a whole newbag of burritos under the hood. I don’t even knowwhat that sentence means, but I don’t give a fuck. A bag of burritos sounds awesome, so let’s just go with it. Most of us struggle throughout our lives by giving too many fucks in situations where fucks do not deserve to be given. We give too many fucks about the rude gas station attendant who gave us our change in nickels. We give too many fucks when a showwe liked was canceled on TV. We give too many fucks when our coworkers don’t bother asking us about our awesome weekend. Meanwhile, our credit cards are maxed out, our dog hates us, and Junior is snorting meth in the bathroom, yet we’re getting pissed off about nickels and Everybody Loves Raymond. Look, this is howit works. You’re going to die one day. I knowthat’s kind of obvious, but I just wanted to remind you in case you’d forgotten. You and everyone you knoware going to be dead soon. And in the short amount of time between here and there, you have a limited amount of fucks to give. Very few, in fact. And if you go around giving a fuck about everything and everyone without conscious thought or choice—well, then you’re going to get fucked. There is a subtle art to not giving a fuck. And though the concept may sound ridiculous and I may sound like an asshole, what I’m talking about here is essentially learning howto focus and prioritize your thoughts effectively—howto pick and choose what matters to you and what does not matter to you based on finely honed personal values. This is incredibly difficult. It takes a lifetime of practice and discipline to achieve. And you will regularly fail. But it is perhaps the most worthy struggle one can undertake in one’s life. It is perhaps the only struggle in one’s life. Because when you give too many fucks—when you give a fuck about everyone and everything— you will feel that you’re perpetually entitled to be comfortable and happy at all times, that everything is supposed to be just exactly the fucking way you want it to be. This is a sickness. And it will eat you alive. You will see every adversity as an injustice, every challenge as a failure, every inconvenience as a personal slight, every disagreement as a betrayal. You will be confined to your own petty, skull- sized hell, burning with entitlement and bluster, running circles around your very own personal Feedback Loop from Hell, in constant motion yet arriving nowhere.    When most people envision giving no fucks whatsoever, they imagine a kind of serene indifference to everything, a calm that weathers all storms. They imagine and aspire to be a person who is shaken by nothing and caves in to no one. There’s a name for a person who finds no emotion or meaning in anything: a psychopath. Why you would want to emulate a psychopath, I have no fucking clue. So what does not giving a fuck mean? Let’s look at three “subtleties” that should help clarify the matter.  Subtlety #1: Not giving a fuck does not mean being indifferent; it means being comfortable   with being different.  Let’s be clear. There’s absolutely nothing admirable or confident about indifference. People who are indifferent are lame and scared. They’re couch potatoes and Internet trolls. In fact, indifferent people often attempt to be indifferent because in reality they give way too many fucks. They give a fuck about what everyone thinks of their hair, so they never bother washing or combing it. They give a fuck about what everyone thinks of their ideas, so they hide behind sarcasm and self-righteous snark. They’re afraid to let anyone get close to them, so they imagine themselves as some special, unique snowflake who has problems that nobody else would ever understand. Indifferent people are afraid of the world and the repercussions of their own choices. That’s why they don’t make any meaningful choices. They hide in a gray, emotionless pit of their own making, self-absorbed and  self-pitying, perpetually distracting  themselves  from  this unfortunate  thing demanding their time and energy called life. Because here’s a sneaky truth about life. There’s no such thing as not giving a fuck. You must give a fuck about something. It’s part of our biology to always care about something and therefore to always give a fuck. The question, then, is, What do we give a fuck about? What are we choosing to give a fuck about? And howcan we not give a fuck about what ultimately does not matter? My mother was recently screwed out of a large chunk of money by a close friend of hers. Had I been indifferent, I would have shrugged my shoulders, sipped my mocha, and downloaded another season of The Wire. Sorry, Mom. But instead, I was indignant. I was pissed off. I said, “No, screwthat, Mom. We’re going to lawyer the fuck up and go after this asshole. Why? Because I don’t give a fuck. I will ruin this guy’s life if I have to.” This illustrates the first subtlety of not giving a fuck. When we say, “Damn, watch out, Mark Manson just don’t give a fuck,” we don’t mean that Mark Manson doesn’t care about anything; on the contrary, we mean that Mark Manson doesn’t care about adversity in the face of his goals, he doesn’t care about pissing some people off to do what he feels is right or important or noble. We mean that Mark Manson is the type of guy who would write about himself in third person just because he thought it was the right thing to do. He just doesn’t give a fuck. This  is what  is so admirable. No, not me, dumbass—the overcoming adversity stuff,  the willingness to be different, an outcast, a pariah, all for the sake of one’s own values. The willingness to stare failure in the face and shove your middle finger back at it. The people who don’t give a fuck about adversity or failure or embarrassing themselves or shitting the bed a fewtimes. The people who just laugh and then do what they believe in anyway. Because they knowit’s right. They knowit’s more important than they are, more important than their own feelings and their own pride and their own ego. They say, “Fuck it,” not to everything in life, but rather to everything unimportant in life. They reserve their fucks for what truly matters. Friends. Family. Purpose. Burritos. And an occasional lawsuit or two. And because of that, because they reserve their fucks for only the big things that matter, people give a fuck about them in return. Because here’s another sneaky little truth about life. You can’t be an important and life-changing presence for some people without also being a joke and an embarrassment to others. You just can’t. Because there’s no such thing as a lack of adversity. It doesn’t exist. The old saying goes that no matter where you go, there you are. Well, the same is true for adversity and failure. No matter where   you go, there’s a five-hundred-pound load of shit waiting for you. And that’s perfectly fine. The point isn’t to get away from the shit. The point is to find the shit you enjoy dealing with.  Subtlety #2: To not give a fuck about adversity, you must first give a fuck about something more important than adversity.  Imagine you’re at a grocery store, and you watch an elderly lady scream at the cashier, berating him for not accepting her thirty-cent coupon. Why does this lady give a fuck? It’s just thirty cents. I’ll tell you why: That lady probably doesn’t have anything better to do with her days than to sit at home cutting out coupons. She’s old and lonely. Her kids are dickheads and never visit. She hasn’t had sex in over thirty years. She can’t fart without extreme lower-back pain. Her pension is on its last legs, and she’s probably going to die in a diaper thinking she’s in Candy Land. So she snips coupons. That’s all she’s got. It’s her and her damn coupons. It’s all she can give a fuck about because there is nothing else to give a fuck about. And so when that pimply-faced seventeen-year-old cashier refuses to accept one of them, when he defends his cash register ’s purity the way knights used to defend maidens’ virginity, you can bet Granny is going to erupt. Eighty years of fucks will rain down all at once, like a fiery hailstorm of “Back in my day” and “People used to showmore respect” stories. The problem with people who hand out fucks like ice cream at a goddamn summer camp is that they don’t have anything more fuck-worthy to dedicate their fucks to. If you find yourself consistently giving too many fucks about trivial shit that bothers you—your ex- boyfriend’s newFacebook picture, howquickly the batteries die in the TV remote, missing out on yet another two-for-one sale on hand sanitizer—chances are you don’t have much going on in your life to give a legitimate fuck about. And that’s your real problem. Not the hand sanitizer. Not the TV remote. I once heard an artist say that when a person has no problems, the mind automatically finds a way to invent some. I think what most people—especially educated, pampered middle-class white people —consider “life problems” are really just side effects of not having anything more important to worry about. It then follows that finding something important and meaningful in your life is perhaps the most productive use of your time and energy. Because if you don’t find that meaningful something, your fucks will be given to meaningless and frivolous causes.  Subtlety #3: Whether you realize it or not, you are always choosing what to give a fuck about.  People aren’t just born not giving a fuck. In fact, we’re born giving way too many fucks. Ever watch a kid cry his eyes out because his hat is the wrong shade of blue? Exactly. Fuck that kid. When we’re young, everything is newand exciting, and everything seems to matter so much. Therefore, we give tons of fucks. We give a fuck about everything and everyone—about what people are saying about us, about whether that cute boy/girl called us back or not, about whether our socks match or not, or what color our birthday balloon is. As we get older, with the benefit of experience (and having seen so much time slip by), we begin to notice that most of these sorts of things have little lasting impact on our lives. Those people whose opinions we cared about so much before are no longer present in our lives. Rejections that were painful in the moment have actually worked out for the best. We realize howlittle attention people   pay to the superficial details about us, and we choose not to obsess so much over them. Essentially, we become more selective about the fucks we’re willing to give. This is something called maturity. It’s nice; you should try it sometime. Maturity is what happens when one learns to only give a fuck about what’s truly fuckworthy. As Bunk Moreland said to his partner Detective McNulty in The Wire (which, fuck you, I still downloaded): “That’s what you get for giving a fuck when it wasn’t your turn to give a fuck.” Then, as we growolder and enter middle age, something else begins to change. Our energy level drops. Our identity solidifies. We knowwho we are and we accept ourselves, including some of the parts we aren’t thrilled about. And, in a strange way, this is liberating. We no longer need to give a fuck about everything. Life is just what it is. We accept it, warts and all. We realize that we’re never going to cure cancer or go to the moon or feel Jennifer Aniston’s tits. And that’s okay. Life goes on. We nowreserve our ever- dwindling fucks for the most truly fuck-worthy parts of our lives: our families, our best friends, our golf swing. And, to our astonishment, this is enough. This simplification actually makes us really fucking happy on a consistent basis. And we start to think, Maybe that crazy alcoholic Bukowski was onto something. Don’t try.    This book will help you think a little bit more clearly about what you’re choosing to find important in life and what you’re choosing to find unimportant. I believe that today we’re facing a psychological epidemic, one in which people no longer realize it’s okay for things to suck sometimes. I knowthat sounds intellectually lazy on the surface, but I promise you, it’s a life/death sort of issue. Because when we believe that it’s not okay for things to suck sometimes, then we unconsciously start blaming ourselves. We start to feel as though something is inherently wrong with us, which drives us to all sorts of overcompensation, like buying forty pairs of shoes or downing Xanax with a vodka chaser on a Tuesday night or shooting up a school bus full of kids. This belief that it’s not okay to be inadequate sometimes is the source of the growing Feedback Loop from Hell that is coming to dominate our culture. The idea of not giving a fuck is a simple way of reorienting our expectations for life and choosing what is important and what is not. Developing this ability leads to something I like to think of as a kind of “practical enlightenment.” No, not that airy-fairy, eternal bliss, end-of-all-suffering, bullshitty kind of enlightenment. On the contrary, I see practical enlightenment as becoming comfortable with the idea that some suffering is always inevitable—that no matter what you do, life is comprised of failures, loss, regrets, and even death. Because once you become comfortable with all the shit that life throws at you (and it will throwa lot of shit, trust me), you become invincible in a sort of low-level spiritual way. After all, the only way to overcome pain is to first learn howto bear it. This book doesn’t give a fuck about alleviating your problems or your pain. And that is precisely why you will knowit’s being honest. This book is not some guide to greatness—it couldn’t be, because greatness  is merely an  illusion  in our minds, a made-up destination  that we obligate ourselves to pursue, our own psychological Atlantis.   Instead, this book will turn your pain into a tool, your trauma into power, and your problems into slightly better problems. That is real progress. Think of it as a guide to suffering and howto do it better, more meaningfully, with more compassion and more humility. It’s a book about moving lightly despite your heavy burdens, resting easier with your greatest fears, laughing at your tears as you cry them. This book will not teach you howto gain or achieve, but rather howto lose and let go. It will teach you to take inventory of your life and scrub out all but the most important items. It will teach you to close your eyes and trust that you can fall backwards and still be okay. It will teach you to give fewer fucks. It will teach you to not try.   '"
      ]
     },
     "execution_count": 33,
     "metadata": {},
     "output_type": "execute_result"
    }
   ],
   "source": [
    "body_clean[post_index[0][0]:post_index[1][0]]"
   ]
  },
  {
   "cell_type": "code",
   "execution_count": 26,
   "metadata": {},
   "outputs": [],
   "source": [
    "# info = []\n",
    "# count = 1\n",
    "# for i in post_index:\n",
    "#     info.append(body_clean[i[0]:i[]])\n",
    "#     if count > len(post_index):\n",
    "#            count += 1\n",
    "#     else:\n",
    "#         info.append(body_clean[i[0]:])\n",
    "    "
   ]
  },
  {
   "cell_type": "code",
   "execution_count": 27,
   "metadata": {},
   "outputs": [
    {
     "data": {
      "text/plain": [
       "'CHAPTER 9    Seek the truth for yourself, and I will meet you there.” That was the last thing Josh ever said to me. He said it ironically, attempting to sound deep while simultaneously making fun of people who attempt to sound deep. He was drunk and high. And he was a good friend. The most transformational moment of my life occurred when I was nineteen years old. My friend Josh had taken me to a party on a lake just north of Dallas, Texas. There were condos on a hill and belowthe hill was a pool, and belowthe pool was a cliff overlooking the lake. It was a small cliff, maybe thirty feet high—certainly high enough to give you a second thought about jumping, but lowenough that with the right combination of alcohol and peer pressure that second thought could easily vanish. Shortly after arriving at the party, Josh and I sat in the pool together, drinking beers and talking as young angsty males do. We talked about drinking and bands and girls and all of the cool stuff Josh had done that summer since dropping out of music school. We talked about playing in a band together and moving to NewYork City—an impossible dream at the time. We were just kids. “Is it okay to jump off that?” I asked after a while, nodding toward the cliff over the lake. “Yeah,” Josh said, “people do it all the time here.” “Are you going to do it?” He shrugged. “Maybe. We’ll see.” Later in the evening, Josh and I got separated. I had become distracted by a pretty Asian girl who liked video games, which to me, as a teenage nerd, was akin to winning the lottery. She had no interest in me, but she was friendly and happy to let me talk, so I talked. After a fewbeers, I gathered enough courage to ask her to go up to the house with me to get some food. She said sure. As we walked up the hill, we bumped into Josh coming down. I asked him if he wanted food, but he declined. I asked him where I could find him later on. He smiled and said, “Seek the truth for yourself, and I will meet you there!” I nodded and made a serious face. “Okay, I’ll see you there,” I replied, as if everyone knewexactly where the truth was and howto get to it. Josh laughed and walked down the hill toward the cliff. I laughed and continued up the hill toward the house. I don’t remember howlong I was inside. I just remember that when the girl and I came out again, everyone was gone and there were sirens. The pool was empty. People were running down the hill toward the shoreline belowthe cliff. There were others already down by the water. I could make out a couple guys swimming around. It was dark and hard to see. The music droned on, but nobody listened. Still not putting two-and-two together, I hurried down to the shoreline, gnawing on my sandwich,   curious as to what everyone was looking at. Halfway down, the pretty Asian girl said to me, “I think something terrible has happened.” When I got to the bottom of the hill, I asked someone where Josh was. No one looked at me or acknowledged me. Everyone  stared at  the water.  I asked again, and a girl  started crying uncontrollably. That’s when I put two-and-two together. It took scuba divers three hours to find Josh’s body at the bottom of the lake. The autopsy would later say that his legs had cramped up due to dehydration from the alcohol, as well as to the impact of the jump from the cliff. It was dark out when he went in, the water layered on the night, black on black. No one could see where his screams for help were coming from. Just the splashes. Just the sounds. His parents later told me that he was a terrible swimmer. I’d had no idea. It took me twelve hours to let myself cry. I was in my car, driving back home to Austin the next morning. I called my dad and told him that I was still near Dallas and that I was going to miss work. (I’d been working for him that summer.) He asked, “Why; what happened? Is everything all right?” And that’s when it all came out: the waterworks. The wails and the screams and the snot. I pulled the car over to the side of the road and clutched the phone and cried the way a little boy cries to his father. I went into a deep depression that summer. I thought I’d been depressed before, but this was a whole newlevel of meaninglessness—sadness so deep that it physically hurt. People would come by and try to cheer me up, and I would sit there and hear them say all the right things and do all the right things; and I would tell them thank you and hownice it was of them to come over, and I would fake a smile and lie and say that it was getting better, but underneath I just felt nothing. I dreamed about Josh for a fewmonths after that. Dreams where he and I would have full-blown conversations about life and death, as well as about random, pointless things. Up until that point in my life, I had been a pretty typical middle-class stoner kid: lazy, irresponsible, socially anxious, and deeply insecure. Josh, in many ways, had been a person I looked up to. He was older, more confident, more experienced, and more accepting of and open to the world around him. In one of my last dreams of Josh, I was sitting in a Jacuzzi with him (yeah, I know, weird), and I said something like, “I’m really sorry you died.” He laughed. I don’t remember exactly what his words were, but he said something like, “Why do you care that I’m dead when you’re still so afraid to live?” I woke up crying. It was sitting on my mom’s couch that summer, staring into the so-called abyss, seeing the endless and incomprehensible nothingness where Josh’s friendship used to be, when I came to the startling realization that if there really is no reason to do anything, then there is also no reason to not do anything; that in the face of the inevitability of death, there is no reason to ever give in to one’s fear or embarrassment or shame, since it’s all just a bunch of nothing anyway; and that by spending the majority of my short life avoiding what was painful and uncomfortable, I had essentially been avoiding being alive at all. That summer, I gave up the weed and the cigarettes and the video games. I gave up my silly rock star fantasies and dropped out of music school and signed up for college courses. I started going to the gym and lost a bunch of weight. I made newfriends. I got my first girlfriend. For the first time in my life I actually studied for classes, gaining me the startling realization that I could make good grades if only I gave a shit. The next summer, I challenged myself to read fifty nonfiction books in fifty   days, and then did it. The following year, I transferred to an excellent university on the other side of the country, where I excelled for the first time, both academically and socially. Josh’s death marks the clearest before/after point I can identify in my life. Pre-tragedy, I was inhibited, unambitious, forever obsessed and confined by what I imagined the world might be thinking of me. Post-tragedy, I morphed into a newperson: responsible, curious,hardworking. I still had my insecurities and my baggage—as we always do—but nowI gave a fuck about something more important than my insecurities and my baggage. And that made all the difference. Oddly, it was someone else’s death that gave me permission to finally live. And perhaps the worst moment of my life was also the most transformational. Death scares us. And because it scares us, we avoid thinking about it, talking about it, sometimes even acknowledging it, even when it’s happening to someone close to us. Yet, in a bizarre, backwards way, death is the light by which the shadowof all of life’s meaning is measured. Without death, everything would feel inconsequential, all experience arbitrary, all metrics and values suddenly zero.  Something B eyond Our Selves  Ernest Becker was an academic outcast. In 1960, he got his Ph.D. in anthropology; his doctoral research compared the unlikely and unconventional practices of Zen Buddhism and psychoanalysis. At the time, Zen was seen as something for hippies and drug addicts, and Freudian psychoanalysis was considered a quack form of psychology left over from the Stone Age. In his first job as an assistant professor, Becker quickly fell into a crowd that denounced the practice of psychiatry as a form of fascism. They sawthe practice as an unscientific form of oppression against the weak and helpless. The problem was that Becker ’s boss was a psychiatrist. So it was kind of like walking into your first job and proudly comparing your boss to Hitler. As you can imagine, he was fired. So Becker took his radical ideas somewhere that they might be accepted: Berkeley, California. But this, too, didn’t last long. Because it wasn’t just his anti-establishment tendencies that got Becker into trouble; it was his odd teaching methods as well. He would use Shakespeare to teach psychology, psychology textbooks to teach anthropology, and anthropological data to teach sociology. He’d dress up as King Lear and do mock sword fights in class and go on long political rants that had little to do with the lesson plan. His students adored him. The other faculty loathed him. Less than a year later, he was fired again. Becker then landed at San Francisco State University, where he actually kept his job for more than a year. But when student protests erupted over the Vietnam War, the university called in the National Guard and things got violent. When Becker sided with the students and publicly condemned the actions of the dean (again, his boss being Hitleresque and everything), he was, once again, promptly fired. Becker changed jobs four times in six years. And before he could get fired from the fifth, he got colon cancer. The prognosis was grim. He spent the next fewyears bedridden and had little hope of surviving. So Becker decided to write a book. This book would be about death. Becker died in 1974. His book The Denial of Death, would win the Pulitzer Prize and become   one of the most influential intellectual works of the twentieth century, shaking up the fields of psychology and anthropology, while making profound philosophical claims that are still influential today. The Denial of Death essentially makes two points:  1.    Humans are unique in that we’re the only animals that can conceptualize and think about ourselves abstractly. Dogs don’t sit around and worry about their career. Cats don’t think about their past mistakes or wonder what would have happened if they’d done something differently. Monkeys don’t argue over future possibilities, just as fish don’t sit around wondering if other fish would like them more if they had longer fins. As humans, we’re blessed with the ability to imagine ourselves in hypothetical situations, to contemplate both the past and the future, to imagine other realities or situations where things might be different. And it’s because of this unique mental ability, Becker says, that we all, at some point, become aware of the inevitability of our own death. Because we’re able to conceptualize alternate versions of reality, we are also the only animal capable of imagining a reality without ourselves in it. This realization causes what Becker calls “death terror,” a deep existential anxiety that underlies everything we think or do. 2.   Becker ’s second point starts with the premise that we essentially have two “selves.” The first self is  the physical self—the one  that eats, sleeps, snores, and poops. The second self  is our conceptual self—our identity, or howwe see ourselves. Becker ’s argument is this: We are all aware on some level that our physical self will eventually die, that this death is inevitable, and that its inevitability—on some unconscious level —scares the shit out of us. Therefore, in order to compensate for our fear of the inevitable loss of our physical self, we try to construct a conceptual self that will live forever. This is why people try so hard to put their names on buildings, on statues, on spines of books. It’s why we feel compelled to spend so much time giving ourselves to others, especially to children, in the hopes that our influence—our conceptual self—will last way beyond our physical self. That we will be remembered and revered and idolized long after our physical self ceases to exist. Becker called such efforts our “immortality projects,” projects that allowour conceptual self to live on way past the point of our physical death. All of human civilization, he says, is basically a result of immortality projects: the cities and governments and structures and authorities in place today were all immortality projects of men and women who came before us. They are the remnants of conceptual selves that ceased to die. Names like Jesus, Muhammad, Napoleon, and Shakespeare are just as powerful today as when those men lived, if not more so. And that’s the whole point. Whether it be through mastering an art form, conquering a newland, gaining great riches, or simply having a large and loving family that will live on for generations, all the  meaning in our life is shaped by this innate desire to never truly die.  Religion, politics, sports, art, and technological innovation are the result of people’s immortality projects. Becker argues that wars and revolutions and mass murder occur when one group of people’s immortality projects rub up against another group’s. Centuries of oppression and the bloodshed of millions have been justified as the defense of one group’s immortality project against another ’s.   But, when our immortality projects fail, when the meaning is lost, when the prospect of our conceptual self outliving our physical self no longer seems possible or likely, death terror—that horrible, depressing anxiety—creeps back into our mind. Trauma can cause this, as can shame and social ridicule. As can, as Becker points out, mental illness. If you haven’t figured it out yet, our immortality projects are our values. They are the barometers of meaning and worth in our life. And when our values fail, so do we, psychologically speaking. What Becker is saying, in essence, is that we’re all driven by fear to give way too many fucks about something, because giving a fuck about something is the only thing that distracts us from the reality and inevitability of our own death. And to truly not give a single fuck is to achieve a quasi-spiritual state of embracing the impermanence of one’s own existence. In that state, one is far less likely to get caught up in various forms of entitlement. Becker later came to a startling realization on his deathbed: that people’s immortality projects were actually the problem, not the solution; that rather than attempting to implement, often through lethal force, their conceptual self across the world, people should question their conceptual self and become more comfortable with the reality of their own death. Becker called this “the bitter antidote,” and struggled with reconciling it himself as he stared down his own demise. While death is bad, it is inevitable. Therefore, we should not avoid this realization, but rather come to terms with it as best we can. Because once we become comfortable with the fact of our own death—the root terror, the underlying anxiety motivating all of life’s frivolous ambitions—we can then choose our values more freely, unrestrained by the illogical quest for immortality, and freed from dangerous dogmatic views.    I step from rock to rock, climbing steadily, leg muscles stretching and aching. In that trancelike state that comes from slow, repetitive physical exertion, I’m nearing the top. The sky gets wide and deep. I’m alone now. My friends are far belowme, taking pictures of the ocean. Finally, I climb over a small boulder and the viewopens up. I can see from here to the infinite horizon. It feels as though I’m staring at the edge of the earth, where water meets the sky, blue on blue. The wind screams across my skin. I look up. It’s bright. It’s beautiful. I’m at South Africa’s Cape of Good Hope, once thought to be the southern tip of Africa and the southernmost point in the world. It’s a tumultuous place, a place full of storms and treacherous waters. A place that’s seen centuries of trade and commerce and human endeavor. A place, ironically, of lost hopes. There is a saying in Portuguese: Ele dobra o Cabo da Boa Esperança. It means, “He’s rounding the Cape of Good Hope.” Ironically, it means that the person’s life is in its final phase, that he’s incapable of accomplishing anything more. I step across the rocks toward the blue, allowing its vastness to engulf my field of vision. I’m sweating yet cold. Excited yet nervous. Is this it? The wind is slapping my ears. I hear nothing, but I see the edge: where the rock meets oblivion. I stop and stand for a moment, several yards away. I can see the ocean below, lapping and frothing against cliffs stretching out for miles to either side. The tides are furious against the impenetrable walls. Straight ahead, it’s a sheer drop of at least fifty yards to the water below. To my right, tourists are dotted across the landscape below, snapping photos and aggregating   themselves into antlike formations. To my left is Asia. In front of me is the sky and behind is me is everything I’ve ever hoped for and brought with me.  What if this is it? What if this is all there is?  I look around. I’m alone. I take my first step toward the edge of the cliff. The human body seems to come equipped with a natural radar for death-inducing situations. For example, the moment you get within about ten feet of a cliff edge, minus guardrail, a certain tension digs into your body. Your back stiffens. Your skin ripples. Your eyes become hyperfocused on every detail of your environment. Your feet feel as though they’re made of rock. It’s as if there were a big, invisible magnet gently pulling your body back to safety. But I fight the magnet. I drag the feet made of rock closer to the edge. At five feet away, your mind joins the party. You can nowsee not only the edge of the cliff, but down the cliff face itself, which induces all sorts of unwanted visualizations of tripping and falling and tumbling to a splashy death. It’s really fucking far, your mind reminds you. Like, really fucking  Is this it?  far. Dude, what are you doing? Stop moving. Stop it.  I tell my mind to shut up, and keep inching forward. At three feet, your body goes into full-scale red alert. You are nowwithin an errant shoelace-trip of your life ending. It feels as though a hefty gust of wind could send you sailing off into that blue- bisected eternity. Your legs shake. As do your hands. As does your voice, in case you need to remind yourself you’re not about to plummet to your death. The three-foot distance is most people’s absolute limit. It’s just close enough to lean forward and catch a glimpse of the bottom, but still far enough to feel as though you’re not at any real risk of killing yourself. Standing that close to the edge of a cliff, even one as beautiful and mesmerizing as the Cape of Good Hope, induces a heady sense of vertigo, and threatens to regurgitate any recent meal.  Is this it? Is this all there is? Do I already knoweverything I will ever know?  I take another microstep, then another. Two feet now. My forward leg vibrates as I put the weight of my body on it. I shuffle on. Against the magnet. Against my mind. Against all my better instincts for survival. One foot now. I’m nowlooking straight down the cliff face. I feel a sudden urge to cry. My body instinctively crouches, protecting itself against something imagined and inexplicable. The wind comes in hailstorms. The thoughts come in right hooks. At one foot you feel like you’re floating. Anything but looking straight down feels as though you’re part of the sky itself. You actually kind of expect to fall at this point. I crouch there for a moment, catching my breath, collecting my thoughts. I force myself to stare down at the water hitting the rocks belowme. Then I look again to my right, at the little ants milling about the signage belowme, snapping photos, chasing tour buses, on the off chance that somebody somehowsees me. This desire for attention is wholly irrational. But so is all of this. It’s impossible to make me out up here, of course. And even if it weren’t, there’s nothing that those distant people could say or do. All I hear is the wind.  My body shudders, the fear becoming euphoric and blinding. I focus my mind and clear my thoughts in a kind of meditation. Nothing makes you present and mindful like being mere inches away   from your own death. I straighten up and look out again, and find myself smiling. I remind myself that it’s all right to die.  This willing and even exuberant interfacing with one’s own mortality has ancient roots. The Stoics of ancient Greece and Rome implored people to keep death in mind at all times, in order to appreciate life more and remain humble in the face of its adversities. In various forms of Buddhism, the practice of meditation is often taught as a means of preparing oneself for death while still remaining alive. Dissolving one’s ego into an expansive nothingness—achieving the enlightened state of nirvana—is seen as a trial run of letting oneself cross to the other side. Even Mark Twain, that hairy goofball who came in and left on Halley’s Comet, said, “The fear of death follows from the fear of life. A man who lives fully is prepared to die at any time.”  Back on the cliff, I bend down, slightly leaning back. I put my hands on the ground behind me and gently lower myself onto my butt. I then gradually slide one leg over the edge of the cliff. There’s a small rock jutting out of the cliff side. I rest my foot on it. Then I slide my other foot off the edge and put it on the same small rock. I sit there a moment, leaning back on my palms, wind ruffling my hair. The anxiety is bearable now, as long as I stay focused on the horizon. Then I sit up straight and look down the cliff again. Fear shoots back up through my spine, electrifying my limbs and laser-focusing my mind on the exact coordinates of every inch of my body. The fear is stifling at times. But each time it stifles me, I empty my thoughts, focus my attention on the bottom of the cliff belowme, force myself to gaze at my potential doom, and then to simply acknowledge its existence. I was nowsitting on the edge of the world, at the southern-most tip of hope, the gateway to the east. The feeling was exhilarating. I can feel the adrenaline pumping through my body. Being so still, so conscious, never felt so thrilling. I listen to the wind and watch the ocean and look out upon the ends of the earth—and then I laugh with the light, all that it touches being good.  Confronting the reality of our own mortality is important because it obliterates all the crappy, fragile, superficial values in life. While most people whittle their days chasing another buck, or a little bit more fame and attention, or a little bit more assurance that they’re right or loved, death confronts all of us with a far more painful and important question: What is your legacy? Howwill the world be different and better when you’re gone? What mark will you have made? What influence will you have caused? They say that a butterfly flapping its wings in Africa can cause a hurricane in Florida; well, what hurricanes will you leave in your wake? As Becker pointed out, this is arguably the only truly important question in our life. Yet we avoid thinking about it. One, because it’s hard. Two, because it’s scary. Three, because we have no fucking clue what we’re doing. And when we avoid this question, we let trivial and hateful values hijack our brains and take control of our desires and ambitions. Without acknowledging the ever-present gaze of death, the superficial will appear important, and the important will appear superficial. Death is the only thing we can knowwith any certainty. And as such, it must be the compass by which we orient all of our other values and decisions. It is the correct answer to all of the questions we should ask but never do. The only way to be comfortable with death is to understand and see yourself as something bigger than yourself; to choose values that stretch beyond serving yourself, that are simple and immediate and   controllable and tolerant of the chaotic world around you. This is the basic root of all happiness. Whether you’re listening to Aristotle or the psychologists at Harvard or Jesus Christ or the goddamn Beatles, they all say that happiness comes from the same thing: caring about something greater than yourself, believing that you are a contributing component in some much larger entity, that your life is but a mere side process of some great unintelligible production. This feeling is what people go to church for; it’s what they fight in wars for; it’s what they raise families and save pensions and build bridges and invent cell phones for: this fleeting sense of being part of something greater and more unknowable than themselves. And entitlement strips this away from us. The gravity of entitlement sucks all attention inward, toward ourselves, causing us to feel as though we are at the center of all of the problems in the universe, that we are the one suffering all of the injustices, that we are the one who deserves greatness over all others. As alluring as it is, entitlement isolates us. Our curiosity and excitement for the world turns in upon itself and reflects our own biases and projections onto every person we meet and every event we experience. This feels sexy and enticing and may feel good for a while and sells a lot of tickets, but it’s spiritual poison. It’s these dynamics that plague us now. We are so materially well off, yet so psychologically tormented in so many low-level and shallowways. People relinquish all responsibility, demanding that society cater to their feelings and sensibilities. People hold on to arbitrary certainties and try to enforce them on others, often violently, in the name of some made-up righteous cause. People, high on a sense of false superiority, fall into inaction and lethargy for fear of trying something worthwhile and failing at it. The pampering of the modern mind has resulted in a population that feels deserving of something without earning  that something, a population  that feels  they have a right  to something without sacrificing for it. People declare themselves experts, entrepreneurs, inventors, innovators, mavericks, and coaches without any real-life experience. And they do this not because they actually think they are greater than everybody else; they do it because they feel that they need to be great to be accepted in a world that broadcasts only the extraordinary. Our culture today confuses great attention and great success, assuming them to be the same thing. But they are not. You are great. Already. Whether you realize it or not. Whether anybody else realizes it or not. And it’s not because you launched an iPhone app, or finished school a year early, or bought yourself a sweet-ass boat. These things do not define greatness. You are already great because in the face of endless confusion and certain death, you continue to choose what to give a fuck about and what not to. This mere fact, this simple optioning for your own values in life, already makes you beautiful, already makes you successful, and already makes you loved. Even if you don’t realize it. Even if you’re sleeping in a gutter and starving. You too are going to die, and that’s because you too were fortunate enough to have lived. You may not feel this. But go stand on a cliff sometime, and maybe you will. Bukowski once wrote, “We’re all going to die, all of us. What a circus! That alone should make us love each other, but it doesn’t. We are terrorized and flattened by life’s trivialities; we are eaten up by nothing.” Looking back on that night, out by that lake, when I watched my friend Josh’s body getting fished   out of the lake by paramedics. I remember staring into the black Texas night and watching my ego slowly dissolve into it. Josh’s death taught me much more than I initially realized. Yes, it helped me to seize the day, to take responsibility for my choices, and to pursue my dreams with less shame and inhibition. But these were side effects of a deeper, more primary lesson. And the primary lesson was this: there is nothing to be afraid of. Ever. And reminding myself of my own death repeatedly over the years—whether it be through meditation, through reading philosophy, or through doing crazy shit like standing on a cliff in South Africa—is the only thing that has helped me hold this realization front and center in my mind. This acceptance of my death, this understanding of my own fragility, has made everything easier—untangling my addictions,  identifying and confronting my own entitlement, accepting  responsibility  for my own problems—suffering  through my  fears and uncertainties, accepting my failures and embracing rejections—it has all been made lighter by the thought of my own death. The more I peer into the darkness, the brighter life gets, the quieter the world becomes, and the less unconscious resistance I feel to, well, anything.  I sit there on the Cape for a fewminutes, taking in everything. When I finally decide to get up, I put my hands behind me and scoot back. Then, slowly, I stand. I check the ground around me—making sure there’s no errant rock ready to sabotage me. Having recognized that I am safe, I begin to walk back to reality—five feet, ten feet—my body restoring itself with each step. My feet become lighter. I let life’s magnet drawme in. As I step back over some rocks, back to the main path, I look up to see a man staring at me. I stop and make eye contact with him. “Um. I sawyou sitting on the edge over there,” he says. His accent is Australian. The word “there” rolls out of his mouth awkwardly. He points toward Antarctica. “Yeah. The viewis gorgeous, isn’t it?” I am smiling. He is not. He has a serious look on his face. I brush my hands off on my shorts, my body still buzzing from my surrender. There’s an awkward silence. The Aussie stands for a moment, perplexed, still looking at me, clearly thinking of what to say next. After a moment, he carefully pieces the words together. “Is everything okay? Howare you feeling?” I pause for a moment, still smiling. “Alive. Very alive.” His skepticism breaks and reveals a smile in its place. He gives a slight nod and heads down the trail. I stand above, taking in the view, waiting for my friends to arrive on the peak.'"
      ]
     },
     "execution_count": 27,
     "metadata": {},
     "output_type": "execute_result"
    }
   ],
   "source": [
    "info[-1]"
   ]
  },
  {
   "cell_type": "code",
   "execution_count": 28,
   "metadata": {},
   "outputs": [
    {
     "data": {
      "text/plain": [
       "9"
      ]
     },
     "execution_count": 28,
     "metadata": {},
     "output_type": "execute_result"
    }
   ],
   "source": [
    "len(info)"
   ]
  },
  {
   "cell_type": "code",
   "execution_count": 31,
   "metadata": {},
   "outputs": [],
   "source": [
    "content = []\n",
    "for i in info:\n",
    "    new_sentence = re.sub(r\"[A-Z]+\\s\\d\", '',i)\n",
    "    new_sentence = new_sentence.strip()\n",
    "    content.append(new_sentence)"
   ]
  },
  {
   "cell_type": "code",
   "execution_count": 32,
   "metadata": {},
   "outputs": [
    {
     "data": {
      "text/plain": [
       "'Charles Bukowski was an alcoholic, a womanizer, a chronic gambler, a lout, a cheapskate, a deadbeat, and on his worst days, a poet. He’s probably the last person on earth you would ever look to for life advice or expect to see in any sort of self-help book. Which is why he’s the perfect place to start. Bukowski wanted to be a writer. But for decades his work was rejected by almost every magazine, newspaper, journal, agent, and publisher he submitted to. His work was horrible, they said. Crude. Disgusting. Depraved. And as the stacks of rejection slips piled up, the weight of his failures pushed him deep into an alcohol-fueled depression that would followhim for most of his life. Bukowski had a day job as a letter-filer at a post office. He got paid shit money and spent most of it on booze. He gambled away the rest at the racetrack. At night, he would drink alone and sometimes hammer out poetry on his beat-up old typewriter. Often, he’d wake up on the floor, having passed out the night before. Thirty years went by like this, most of it a meaningless blur of alcohol, drugs, gambling, and prostitutes. Then, when Bukowski was fifty, after a lifetime of failure and self-loathing, an editor at a small independent publishing house took a strange interest in him. The editor couldn’t offer Bukowski much money or much promise of sales. But he had a weird affection for the drunk loser, so he decided to take a chance on him. It was the first real shot Bukowski had ever gotten, and, he realized, probably the only one he would ever get. Bukowski wrote back to the editor: “I have one of two choices—stay in the post office and go crazy . . . or stay out here and play at writer and starve. I have decided to starve.” Upon signing the contract, Bukowski wrote his first novel in three weeks. It was called simply Post Office. In the dedication, he wrote, “Dedicated to nobody.” Bukowski would make it as a novelist and poet. He would go on and publish six novels and hundreds of poems, selling over two million copies of his books. His popularity defied everyone’s expectations, particularly his own. Stories like Bukowski’s are the bread and butter of our cultural narrative. Bukowski’s life embodies the American Dream: a man fights for what he wants, never gives up, and eventually achieves his wildest dreams. It’s practically a movie waiting to happen. We all look at stories like Bukowski’s and say, “See? He never gave up. He never stopped trying. He always believed in himself. He persisted against all the odds and made something of himself!” It is then strange that on Bukowski’s tombstone, the epitaph reads: “Don’t try.” See, despite the book sales and the fame, Bukowski was a loser. He knewit. And his success stemmed not from some determination to be a winner, but from the fact that he knewhe was a loser,   accepted it, and then wrote honestly about it. He never tried to be anything other than what he was. The genius in Bukowski’s work was not in overcoming unbelievable odds or developing himself into a shining literary light. It was the opposite. It was his simple ability to be completely, unflinchingly honest with himself—especially  the worst parts of himself—and  to share his failings without hesitation or doubt. This is the real story of Bukowski’s success: his comfort with himself as a failure. Bukowski didn’t give a fuck about success. Even after his fame, he still showed up to poetry readings hammered and verbally abused people in his audience. He still exposed himself in public and tried to sleep with every woman he could find. Fame and success didn’t make him a better person. Nor was it by becoming a better person that he became famous and successful. Self-improvement and success often occur together. But that doesn’t necessarily mean they’re the same thing. Our culture today is obsessively focused on unrealistically positive expectations: Be happier. Be healthier. Be the best, better than the rest. Be smarter, faster, richer, sexier, more popular, more productive, more envied, and more admired. Be perfect and amazing and crap out twelve-karat-gold nuggets before breakfast each morning while kissing your selfie-ready spouse and two and a half kids goodbye. Then fly your helicopter to your wonderfully fulfilling job, where you spend your days doing incredibly meaningful work that’s likely to save the planet one day. But when you stop and really think about it, conventional life advice—all the positive and happy self-help stuff we hear all the time—is actually fixating on what you lack. It lasers in on what you  perceive your personal shortcomings and failures to already be, and then emphasizes them for you.  You learn about the best ways to make money because you feel you don’t have enough money already. You stand in front of the mirror and repeat affirmations saying that you’re beautiful because you feel as though you’re not beautiful already. You followdating and relationship advice because you feel that you’re unlovable already. You try goofy visualization exercises about being more successful because you feel as though you aren’t successful enough already. Ironically, this fixation on the positive—on what’s better, what’s superior—only serves to remind us over and over again of what we are not, of what we lack, of what we should have been but failed to be. After all, no truly happy person feels the need to stand in front of a mirror and recite that she’s happy. She just is. There’s a saying in Texas: “The smallest dog barks the loudest.” A confident man doesn’t feel a need to prove that he’s confident. A rich woman doesn’t feel a need to convince anybody that she’s rich. Either you are or you are not. And if you’re dreaming of something all the time, then you’re reinforcing the same unconscious reality over and over: that you are not that. Everyone and their TV commercial wants you to believe that the key to a good life is a nicer job, or a more rugged car, or a prettier girlfriend, or a hot tub with an inflatable pool for the kids. The world is constantly telling you that the path to a better life is more, more, more—buy more, own more, make more, fuck more, be more. You are constantly bombarded with messages to give a fuck about everything, all the time. Give a fuck about a newTV. Give a fuck about having a better vacation than your coworkers. Give a fuck about buying that newlawn ornament. Give a fuck about having the right kind of selfie stick. Why? My guess: because giving a fuck about more stuff is good for business. And while there’s nothing wrong with good business, the problem is that giving too many fucks is   bad for your mental health. It causes you to become overly attached to the superficial and fake, to dedicate your life to chasing a mirage of happiness and satisfaction. The key to a good life is not giving a fuck about more; it’s giving a fuck about less, giving a fuck about only what is true and immediate and important.    There’s an insidious quirk to your brain that, if you let it, can drive you absolutely batty. Tell me if this sounds familiar to you: You get anxious about confronting somebody in your life. That anxiety cripples you and you start wondering why you’re so anxious. Nowyou’re becoming anxious about being anxious. Oh no! Doubly anxious! Nowyou’re anxious about your anxiety, which is causing more anxiety. Quick, where’s the whiskey? Or let’s say you have an anger problem. You get pissed off at the stupidest, most inane stuff, and you have no idea why. And the fact that you get pissed off so easily starts to piss you off even more. And then, in your petty rage, you realize that being angry all the time makes you a shallowand mean person, and you hate this; you hate it so much that you get angry at yourself. Nowlook at you: you’re angry at yourself getting angry about being angry. Fuck you, wall. Here, have a fist. Or you’re so worried about doing the right thing all the time that you become worried about howmuch you’re worrying. Or you feel so guilty for every mistake you make that you begin to feel guilty about howguilty you’re feeling. Or you get sad and alone so often that it makes you feel even more sad and alone just thinking about it. Welcome to the Feedback Loop from Hell. Chances are you’ve engaged in it more than a fewtimes. Maybe you’re engaging in it right now: “God, I do the Feedback Loop all the time—I’m such a loser for doing it. I should stop. Oh my God, I feel like such a loser for calling myself a loser. I should stop calling myself a loser. Ah, fuck! I’m doing it again! See? I’m a loser! Argh!” Calm down, amigo. Believe it or not, this is part of the beauty of being human. Very fewanimals on earth have the ability to think cogent thoughts to begin with, but we humans have the luxury of being able to have thoughts about our thoughts. So I can think about watching Miley Cyrus videos on YouTube, and then immediately think about what a sicko I am for wanting to watch Miley Cyrus videos on YouTube. Ah, the miracle of consciousness! Nowhere’s the problem: Our society today, through the wonders of consumer culture and hey- look-my-life-is-cooler-than-yours social media, has bred a whole generation of people who believe that having these negative experiences—anxiety, fear, guilt, etc.—is totally not okay. I mean, if you look at your Facebook feed, everybody there is having a fucking grand old time. Look, eight people got married this week! And some sixteen-year-old on TV got a Ferrari for her birthday. And another kid just made two billion dollars inventing an app that automatically delivers you more toilet paper when you run out. Meanwhile, you’re stuck at home flossing your cat. And you can’t help but think your life sucks even more than you thought.  has become a borderline epidemic, making many of us overly stressed, overly neurotic, and overly self-loathing. Back in Grandpa’s day, he would feel like shit and think to himself, “Gee whiz, I sure do feel like   me?  a cowturd today. But hey, I guess that’s just life. Back to shoveling hay.” But now? Nowif you feel like shit for even five minutes, you’re bombarded with 350 images of people totally happy and having amazing fucking lives, and it’s impossible to not feel like there’s something wrong with you. It’s this last part that gets us into trouble. We feel bad about feeling bad. We feel guilty for feeling guilty. We get angry about getting angry. We get anxious about feeling anxious. What is wrong with  This is why not giving a fuck is so key. This is why it’s going to save the world. And it’s going to save it by accepting that the world is totally fucked and that’s all right, because it’s always been that way, and always will be. By not giving a fuck that you feel bad, you short-circuit the Feedback Loop from Hell; you say to yourself, “I feel like shit, but who gives a fuck?” And then, as if sprinkled by magic fuck-giving fairy dust, you stop hating yourself for feeling so bad. George Orwell said that to see what’s in front of one’s nose requires a constant struggle. Well, the solution to our stress and anxiety is right there in front of our noses, and we’re too busy watching porn and advertisements for ab machines that don’t work, wondering why we’re not banging a hot blonde with a rocking six-pack, to notice. We joke online about “first-world problems,” but we really have become victims of our own success. Stress-related health issues, anxiety disorders, and cases of depression have skyrocketed over the past thirty years, despite the fact that everyone has a flat-screen TV and can have their groceries delivered. Our crisis is no longer material; it’s existential, it’s spiritual. We have so much fucking stuff and so many opportunities that we don’t even knowwhat to give a fuck about anymore. Because there’s an infinite amount of things we can nowsee or know, there are also an infinite number of ways we can discover that we don’t measure up, that we’re not good enough, that things aren’t as great as they could be. And this rips us apart inside. Because here’s the thing that’s wrong with all of the “Howto Be Happy” shit that’s been shared eight million times on Facebook in the past fewyears—here’s what nobody realizes about all of this crap:  The de sire  for more positive e xpe rie nce  is  itse lf a ne gative e xpe rie nce . And, paradoxically,  the acce ptance of one ’s ne gative e xpe rie nce  is  itse lf a positive e xpe rie nce .  This is a total mind-fuck. So I’ll give you a minute to unpretzel your brain and maybe read that  again: Wanting positive experience is a negative experience; accepting negative experience is a  positive experience. It’s what the philosopher Alan Watts used to refer to as “the backwards law”— the idea that the more you pursue feeling better all the time, the less satisfied you become, as pursuing something only reinforces the fact that you lack it in the first place. The more you desperately want to be rich, the more poor and unworthy you feel, regardless of howmuch money you actually make. The more you desperately want to be sexy and desired, the uglier you come to see yourself, regardless of your actual physical appearance. The more you desperately want to be happy and loved, the lonelier and more afraid you become, regardless of those who surround you. The more you want to be spiritually enlightened, the more self-centered and shallowyou become in trying to get there.   It’s like this one time I tripped on acid and it felt like the more I walked toward a house, the farther away  the house got from me. And yes, I  just used my LSD hallucinations  to make a philosophical point about happiness. No fucks given. As the existential philosopher Albert Camus said (and I’m pretty sure he wasn’t on LSD at the time): “You will never be happy if you continue to search for what happiness consists of. You will never live if you are looking for the meaning of life.” Or put more simply: Don’t try. Now, I knowwhat you’re saying: “Mark, this is making my nipples all hard, but what about the Camaro I’ve been saving up for? What about the beach body I’ve been starving myself for? After all, I paid a lot of money for that ab machine! What about the big house on the lake I’ve been dreaming of? If I stop giving a fuck about those things—well, then I’ll never achieve anything. I don’t want that to happen, do I?” So glad you asked. Ever notice that sometimes when you care less about something, you do better at it? Notice howit’s often the person who is the least invested in the success of something that actually ends up achieving it? Notice howsometimes when you stop giving a fuck, everything seems to fall into place? What’s with that? What’s interesting about the backwards lawis that it’s called “backwards” for a reason: not giving a fuck works in reverse. If pursuing the positive is a negative, then pursuing the negative generates the positive. The pain you pursue in the gym results in better all-around health and energy. The failures in business are what lead to a better understanding of what’s necessary to be successful. Being open with your insecurities paradoxically makes you more confident and charismatic around others. The pain of honest confrontation is what generates the greatest trust and respect in your relationships. Suffering through your fears and anxieties is what allows you to build courage and perseverance. Seriously, I could keep going, but you get the point. Everything worthwhile in life is won through surmounting the associated negative experience. Any attempt to escape the negative, to avoid it or quash it or silence it, only backfires. The avoidance of suffering is a form of suffering. The avoidance of struggle is a struggle. The denial of failure is a failure. Hiding what is shameful is itself a form of shame. Pain is an inextricable thread in the fabric of life, and to tear it out is not only impossible, but destructive: attempting to tear it out unravels everything else with it. To try to avoid pain is to give too many fucks about pain. In contrast, if you’re able to not give a fuck about the pain, you become unstoppable. In my life, I have given a fuck about many things. I have also not given a fuck about many things. And like the road not taken, it was the fucks not given that made all the difference. Chances are you knowsomebody in your life who, at one time or another, did not give a fuck and then went on to accomplish amazing feats. Perhaps there was a time in your own life when you simply did not give a fuck and excelled to some extraordinary height. For myself, quitting my day job in finance after only six weeks to start an Internet business ranks pretty high up there in my own “didn’t give a fuck” hall of fame. Same with deciding to sell most of my possessions and move to South America. Fucks given? None. Just went and did it.   These moments of non-fuckery are the moments that most define our lives. The major switch in careers; the spontaneous choice to drop out of college and join a rock band; the decision to finally dump that deadbeat boyfriend whom you caught wearing your pantyhose a fewtoo many times. To not give a fuck is to stare down life’s most terrifying and difficult challenges and still take action. While not giving a fuck may seem simple on the surface, it’s a whole newbag of burritos under the hood. I don’t even knowwhat that sentence means, but I don’t give a fuck. A bag of burritos sounds awesome, so let’s just go with it. Most of us struggle throughout our lives by giving too many fucks in situations where fucks do not deserve to be given. We give too many fucks about the rude gas station attendant who gave us our change in nickels. We give too many fucks when a showwe liked was canceled on TV. We give too many fucks when our coworkers don’t bother asking us about our awesome weekend. Meanwhile, our credit cards are maxed out, our dog hates us, and Junior is snorting meth in the bathroom, yet we’re getting pissed off about nickels and Everybody Loves Raymond. Look, this is howit works. You’re going to die one day. I knowthat’s kind of obvious, but I just wanted to remind you in case you’d forgotten. You and everyone you knoware going to be dead soon. And in the short amount of time between here and there, you have a limited amount of fucks to give. Very few, in fact. And if you go around giving a fuck about everything and everyone without conscious thought or choice—well, then you’re going to get fucked. There is a subtle art to not giving a fuck. And though the concept may sound ridiculous and I may sound like an asshole, what I’m talking about here is essentially learning howto focus and prioritize your thoughts effectively—howto pick and choose what matters to you and what does not matter to you based on finely honed personal values. This is incredibly difficult. It takes a lifetime of practice and discipline to achieve. And you will regularly fail. But it is perhaps the most worthy struggle one can undertake in one’s life. It is perhaps the only struggle in one’s life. Because when you give too many fucks—when you give a fuck about everyone and everything— you will feel that you’re perpetually entitled to be comfortable and happy at all times, that everything is supposed to be just exactly the fucking way you want it to be. This is a sickness. And it will eat you alive. You will see every adversity as an injustice, every challenge as a failure, every inconvenience as a personal slight, every disagreement as a betrayal. You will be confined to your own petty, skull- sized hell, burning with entitlement and bluster, running circles around your very own personal Feedback Loop from Hell, in constant motion yet arriving nowhere.    When most people envision giving no fucks whatsoever, they imagine a kind of serene indifference to everything, a calm that weathers all storms. They imagine and aspire to be a person who is shaken by nothing and caves in to no one. There’s a name for a person who finds no emotion or meaning in anything: a psychopath. Why you would want to emulate a psychopath, I have no fucking clue. So what does not giving a fuck mean? Let’s look at three “subtleties” that should help clarify the matter.  Subtlety #1: Not giving a fuck does not mean being indifferent; it means being comfortable   with being different.  Let’s be clear. There’s absolutely nothing admirable or confident about indifference. People who are indifferent are lame and scared. They’re couch potatoes and Internet trolls. In fact, indifferent people often attempt to be indifferent because in reality they give way too many fucks. They give a fuck about what everyone thinks of their hair, so they never bother washing or combing it. They give a fuck about what everyone thinks of their ideas, so they hide behind sarcasm and self-righteous snark. They’re afraid to let anyone get close to them, so they imagine themselves as some special, unique snowflake who has problems that nobody else would ever understand. Indifferent people are afraid of the world and the repercussions of their own choices. That’s why they don’t make any meaningful choices. They hide in a gray, emotionless pit of their own making, self-absorbed and  self-pitying, perpetually distracting  themselves  from  this unfortunate  thing demanding their time and energy called life. Because here’s a sneaky truth about life. There’s no such thing as not giving a fuck. You must give a fuck about something. It’s part of our biology to always care about something and therefore to always give a fuck. The question, then, is, What do we give a fuck about? What are we choosing to give a fuck about? And howcan we not give a fuck about what ultimately does not matter? My mother was recently screwed out of a large chunk of money by a close friend of hers. Had I been indifferent, I would have shrugged my shoulders, sipped my mocha, and downloaded another season of The Wire. Sorry, Mom. But instead, I was indignant. I was pissed off. I said, “No, screwthat, Mom. We’re going to lawyer the fuck up and go after this asshole. Why? Because I don’t give a fuck. I will ruin this guy’s life if I have to.” This illustrates the first subtlety of not giving a fuck. When we say, “Damn, watch out, Mark Manson just don’t give a fuck,” we don’t mean that Mark Manson doesn’t care about anything; on the contrary, we mean that Mark Manson doesn’t care about adversity in the face of his goals, he doesn’t care about pissing some people off to do what he feels is right or important or noble. We mean that Mark Manson is the type of guy who would write about himself in third person just because he thought it was the right thing to do. He just doesn’t give a fuck. This  is what  is so admirable. No, not me, dumbass—the overcoming adversity stuff,  the willingness to be different, an outcast, a pariah, all for the sake of one’s own values. The willingness to stare failure in the face and shove your middle finger back at it. The people who don’t give a fuck about adversity or failure or embarrassing themselves or shitting the bed a fewtimes. The people who just laugh and then do what they believe in anyway. Because they knowit’s right. They knowit’s more important than they are, more important than their own feelings and their own pride and their own ego. They say, “Fuck it,” not to everything in life, but rather to everything unimportant in life. They reserve their fucks for what truly matters. Friends. Family. Purpose. Burritos. And an occasional lawsuit or two. And because of that, because they reserve their fucks for only the big things that matter, people give a fuck about them in return. Because here’s another sneaky little truth about life. You can’t be an important and life-changing presence for some people without also being a joke and an embarrassment to others. You just can’t. Because there’s no such thing as a lack of adversity. It doesn’t exist. The old saying goes that no matter where you go, there you are. Well, the same is true for adversity and failure. No matter where   you go, there’s a five-hundred-pound load of shit waiting for you. And that’s perfectly fine. The point isn’t to get away from the shit. The point is to find the shit you enjoy dealing with.  Subtlety #2: To not give a fuck about adversity, you must first give a fuck about something more important than adversity.  Imagine you’re at a grocery store, and you watch an elderly lady scream at the cashier, berating him for not accepting her thirty-cent coupon. Why does this lady give a fuck? It’s just thirty cents. I’ll tell you why: That lady probably doesn’t have anything better to do with her days than to sit at home cutting out coupons. She’s old and lonely. Her kids are dickheads and never visit. She hasn’t had sex in over thirty years. She can’t fart without extreme lower-back pain. Her pension is on its last legs, and she’s probably going to die in a diaper thinking she’s in Candy Land. So she snips coupons. That’s all she’s got. It’s her and her damn coupons. It’s all she can give a fuck about because there is nothing else to give a fuck about. And so when that pimply-faced seventeen-year-old cashier refuses to accept one of them, when he defends his cash register ’s purity the way knights used to defend maidens’ virginity, you can bet Granny is going to erupt. Eighty years of fucks will rain down all at once, like a fiery hailstorm of “Back in my day” and “People used to showmore respect” stories. The problem with people who hand out fucks like ice cream at a goddamn summer camp is that they don’t have anything more fuck-worthy to dedicate their fucks to. If you find yourself consistently giving too many fucks about trivial shit that bothers you—your ex- boyfriend’s newFacebook picture, howquickly the batteries die in the TV remote, missing out on yet another two-for-one sale on hand sanitizer—chances are you don’t have much going on in your life to give a legitimate fuck about. And that’s your real problem. Not the hand sanitizer. Not the TV remote. I once heard an artist say that when a person has no problems, the mind automatically finds a way to invent some. I think what most people—especially educated, pampered middle-class white people —consider “life problems” are really just side effects of not having anything more important to worry about. It then follows that finding something important and meaningful in your life is perhaps the most productive use of your time and energy. Because if you don’t find that meaningful something, your fucks will be given to meaningless and frivolous causes.  Subtlety #3: Whether you realize it or not, you are always choosing what to give a fuck about.  People aren’t just born not giving a fuck. In fact, we’re born giving way too many fucks. Ever watch a kid cry his eyes out because his hat is the wrong shade of blue? Exactly. Fuck that kid. When we’re young, everything is newand exciting, and everything seems to matter so much. Therefore, we give tons of fucks. We give a fuck about everything and everyone—about what people are saying about us, about whether that cute boy/girl called us back or not, about whether our socks match or not, or what color our birthday balloon is. As we get older, with the benefit of experience (and having seen so much time slip by), we begin to notice that most of these sorts of things have little lasting impact on our lives. Those people whose opinions we cared about so much before are no longer present in our lives. Rejections that were painful in the moment have actually worked out for the best. We realize howlittle attention people   pay to the superficial details about us, and we choose not to obsess so much over them. Essentially, we become more selective about the fucks we’re willing to give. This is something called maturity. It’s nice; you should try it sometime. Maturity is what happens when one learns to only give a fuck about what’s truly fuckworthy. As Bunk Moreland said to his partner Detective McNulty in The Wire (which, fuck you, I still downloaded): “That’s what you get for giving a fuck when it wasn’t your turn to give a fuck.” Then, as we growolder and enter middle age, something else begins to change. Our energy level drops. Our identity solidifies. We knowwho we are and we accept ourselves, including some of the parts we aren’t thrilled about. And, in a strange way, this is liberating. We no longer need to give a fuck about everything. Life is just what it is. We accept it, warts and all. We realize that we’re never going to cure cancer or go to the moon or feel Jennifer Aniston’s tits. And that’s okay. Life goes on. We nowreserve our ever- dwindling fucks for the most truly fuck-worthy parts of our lives: our families, our best friends, our golf swing. And, to our astonishment, this is enough. This simplification actually makes us really fucking happy on a consistent basis. And we start to think, Maybe that crazy alcoholic Bukowski was onto something. Don’t try.    This book will help you think a little bit more clearly about what you’re choosing to find important in life and what you’re choosing to find unimportant. I believe that today we’re facing a psychological epidemic, one in which people no longer realize it’s okay for things to suck sometimes. I knowthat sounds intellectually lazy on the surface, but I promise you, it’s a life/death sort of issue. Because when we believe that it’s not okay for things to suck sometimes, then we unconsciously start blaming ourselves. We start to feel as though something is inherently wrong with us, which drives us to all sorts of overcompensation, like buying forty pairs of shoes or downing Xanax with a vodka chaser on a Tuesday night or shooting up a school bus full of kids. This belief that it’s not okay to be inadequate sometimes is the source of the growing Feedback Loop from Hell that is coming to dominate our culture. The idea of not giving a fuck is a simple way of reorienting our expectations for life and choosing what is important and what is not. Developing this ability leads to something I like to think of as a kind of “practical enlightenment.” No, not that airy-fairy, eternal bliss, end-of-all-suffering, bullshitty kind of enlightenment. On the contrary, I see practical enlightenment as becoming comfortable with the idea that some suffering is always inevitable—that no matter what you do, life is comprised of failures, loss, regrets, and even death. Because once you become comfortable with all the shit that life throws at you (and it will throwa lot of shit, trust me), you become invincible in a sort of low-level spiritual way. After all, the only way to overcome pain is to first learn howto bear it. This book doesn’t give a fuck about alleviating your problems or your pain. And that is precisely why you will knowit’s being honest. This book is not some guide to greatness—it couldn’t be, because greatness  is merely an  illusion  in our minds, a made-up destination  that we obligate ourselves to pursue, our own psychological Atlantis.   Instead, this book will turn your pain into a tool, your trauma into power, and your problems into slightly better problems. That is real progress. Think of it as a guide to suffering and howto do it better, more meaningfully, with more compassion and more humility. It’s a book about moving lightly despite your heavy burdens, resting easier with your greatest fears, laughing at your tears as you cry them. This book will not teach you howto gain or achieve, but rather howto lose and let go. It will teach you to take inventory of your life and scrub out all but the most important items. It will teach you to close your eyes and trust that you can fall backwards and still be okay. It will teach you to give fewer fucks. It will teach you to not try.'"
      ]
     },
     "execution_count": 32,
     "metadata": {},
     "output_type": "execute_result"
    }
   ],
   "source": [
    "content[0]"
   ]
  },
  {
   "cell_type": "code",
   "execution_count": 38,
   "metadata": {},
   "outputs": [],
   "source": [
    "sub_content = list(zip(chap_sub, content))\n"
   ]
  },
  {
   "cell_type": "code",
   "execution_count": 39,
   "metadata": {},
   "outputs": [
    {
     "data": {
      "text/plain": [
       "('Don’t Try',\n",
       " 'Charles Bukowski was an alcoholic, a womanizer, a chronic gambler, a lout, a cheapskate, a deadbeat, and on his worst days, a poet. He’s probably the last person on earth you would ever look to for life advice or expect to see in any sort of self-help book. Which is why he’s the perfect place to start. Bukowski wanted to be a writer. But for decades his work was rejected by almost every magazine, newspaper, journal, agent, and publisher he submitted to. His work was horrible, they said. Crude. Disgusting. Depraved. And as the stacks of rejection slips piled up, the weight of his failures pushed him deep into an alcohol-fueled depression that would followhim for most of his life. Bukowski had a day job as a letter-filer at a post office. He got paid shit money and spent most of it on booze. He gambled away the rest at the racetrack. At night, he would drink alone and sometimes hammer out poetry on his beat-up old typewriter. Often, he’d wake up on the floor, having passed out the night before. Thirty years went by like this, most of it a meaningless blur of alcohol, drugs, gambling, and prostitutes. Then, when Bukowski was fifty, after a lifetime of failure and self-loathing, an editor at a small independent publishing house took a strange interest in him. The editor couldn’t offer Bukowski much money or much promise of sales. But he had a weird affection for the drunk loser, so he decided to take a chance on him. It was the first real shot Bukowski had ever gotten, and, he realized, probably the only one he would ever get. Bukowski wrote back to the editor: “I have one of two choices—stay in the post office and go crazy . . . or stay out here and play at writer and starve. I have decided to starve.” Upon signing the contract, Bukowski wrote his first novel in three weeks. It was called simply Post Office. In the dedication, he wrote, “Dedicated to nobody.” Bukowski would make it as a novelist and poet. He would go on and publish six novels and hundreds of poems, selling over two million copies of his books. His popularity defied everyone’s expectations, particularly his own. Stories like Bukowski’s are the bread and butter of our cultural narrative. Bukowski’s life embodies the American Dream: a man fights for what he wants, never gives up, and eventually achieves his wildest dreams. It’s practically a movie waiting to happen. We all look at stories like Bukowski’s and say, “See? He never gave up. He never stopped trying. He always believed in himself. He persisted against all the odds and made something of himself!” It is then strange that on Bukowski’s tombstone, the epitaph reads: “Don’t try.” See, despite the book sales and the fame, Bukowski was a loser. He knewit. And his success stemmed not from some determination to be a winner, but from the fact that he knewhe was a loser,   accepted it, and then wrote honestly about it. He never tried to be anything other than what he was. The genius in Bukowski’s work was not in overcoming unbelievable odds or developing himself into a shining literary light. It was the opposite. It was his simple ability to be completely, unflinchingly honest with himself—especially  the worst parts of himself—and  to share his failings without hesitation or doubt. This is the real story of Bukowski’s success: his comfort with himself as a failure. Bukowski didn’t give a fuck about success. Even after his fame, he still showed up to poetry readings hammered and verbally abused people in his audience. He still exposed himself in public and tried to sleep with every woman he could find. Fame and success didn’t make him a better person. Nor was it by becoming a better person that he became famous and successful. Self-improvement and success often occur together. But that doesn’t necessarily mean they’re the same thing. Our culture today is obsessively focused on unrealistically positive expectations: Be happier. Be healthier. Be the best, better than the rest. Be smarter, faster, richer, sexier, more popular, more productive, more envied, and more admired. Be perfect and amazing and crap out twelve-karat-gold nuggets before breakfast each morning while kissing your selfie-ready spouse and two and a half kids goodbye. Then fly your helicopter to your wonderfully fulfilling job, where you spend your days doing incredibly meaningful work that’s likely to save the planet one day. But when you stop and really think about it, conventional life advice—all the positive and happy self-help stuff we hear all the time—is actually fixating on what you lack. It lasers in on what you  perceive your personal shortcomings and failures to already be, and then emphasizes them for you.  You learn about the best ways to make money because you feel you don’t have enough money already. You stand in front of the mirror and repeat affirmations saying that you’re beautiful because you feel as though you’re not beautiful already. You followdating and relationship advice because you feel that you’re unlovable already. You try goofy visualization exercises about being more successful because you feel as though you aren’t successful enough already. Ironically, this fixation on the positive—on what’s better, what’s superior—only serves to remind us over and over again of what we are not, of what we lack, of what we should have been but failed to be. After all, no truly happy person feels the need to stand in front of a mirror and recite that she’s happy. She just is. There’s a saying in Texas: “The smallest dog barks the loudest.” A confident man doesn’t feel a need to prove that he’s confident. A rich woman doesn’t feel a need to convince anybody that she’s rich. Either you are or you are not. And if you’re dreaming of something all the time, then you’re reinforcing the same unconscious reality over and over: that you are not that. Everyone and their TV commercial wants you to believe that the key to a good life is a nicer job, or a more rugged car, or a prettier girlfriend, or a hot tub with an inflatable pool for the kids. The world is constantly telling you that the path to a better life is more, more, more—buy more, own more, make more, fuck more, be more. You are constantly bombarded with messages to give a fuck about everything, all the time. Give a fuck about a newTV. Give a fuck about having a better vacation than your coworkers. Give a fuck about buying that newlawn ornament. Give a fuck about having the right kind of selfie stick. Why? My guess: because giving a fuck about more stuff is good for business. And while there’s nothing wrong with good business, the problem is that giving too many fucks is   bad for your mental health. It causes you to become overly attached to the superficial and fake, to dedicate your life to chasing a mirage of happiness and satisfaction. The key to a good life is not giving a fuck about more; it’s giving a fuck about less, giving a fuck about only what is true and immediate and important.    There’s an insidious quirk to your brain that, if you let it, can drive you absolutely batty. Tell me if this sounds familiar to you: You get anxious about confronting somebody in your life. That anxiety cripples you and you start wondering why you’re so anxious. Nowyou’re becoming anxious about being anxious. Oh no! Doubly anxious! Nowyou’re anxious about your anxiety, which is causing more anxiety. Quick, where’s the whiskey? Or let’s say you have an anger problem. You get pissed off at the stupidest, most inane stuff, and you have no idea why. And the fact that you get pissed off so easily starts to piss you off even more. And then, in your petty rage, you realize that being angry all the time makes you a shallowand mean person, and you hate this; you hate it so much that you get angry at yourself. Nowlook at you: you’re angry at yourself getting angry about being angry. Fuck you, wall. Here, have a fist. Or you’re so worried about doing the right thing all the time that you become worried about howmuch you’re worrying. Or you feel so guilty for every mistake you make that you begin to feel guilty about howguilty you’re feeling. Or you get sad and alone so often that it makes you feel even more sad and alone just thinking about it. Welcome to the Feedback Loop from Hell. Chances are you’ve engaged in it more than a fewtimes. Maybe you’re engaging in it right now: “God, I do the Feedback Loop all the time—I’m such a loser for doing it. I should stop. Oh my God, I feel like such a loser for calling myself a loser. I should stop calling myself a loser. Ah, fuck! I’m doing it again! See? I’m a loser! Argh!” Calm down, amigo. Believe it or not, this is part of the beauty of being human. Very fewanimals on earth have the ability to think cogent thoughts to begin with, but we humans have the luxury of being able to have thoughts about our thoughts. So I can think about watching Miley Cyrus videos on YouTube, and then immediately think about what a sicko I am for wanting to watch Miley Cyrus videos on YouTube. Ah, the miracle of consciousness! Nowhere’s the problem: Our society today, through the wonders of consumer culture and hey- look-my-life-is-cooler-than-yours social media, has bred a whole generation of people who believe that having these negative experiences—anxiety, fear, guilt, etc.—is totally not okay. I mean, if you look at your Facebook feed, everybody there is having a fucking grand old time. Look, eight people got married this week! And some sixteen-year-old on TV got a Ferrari for her birthday. And another kid just made two billion dollars inventing an app that automatically delivers you more toilet paper when you run out. Meanwhile, you’re stuck at home flossing your cat. And you can’t help but think your life sucks even more than you thought.  has become a borderline epidemic, making many of us overly stressed, overly neurotic, and overly self-loathing. Back in Grandpa’s day, he would feel like shit and think to himself, “Gee whiz, I sure do feel like   me?  a cowturd today. But hey, I guess that’s just life. Back to shoveling hay.” But now? Nowif you feel like shit for even five minutes, you’re bombarded with 350 images of people totally happy and having amazing fucking lives, and it’s impossible to not feel like there’s something wrong with you. It’s this last part that gets us into trouble. We feel bad about feeling bad. We feel guilty for feeling guilty. We get angry about getting angry. We get anxious about feeling anxious. What is wrong with  This is why not giving a fuck is so key. This is why it’s going to save the world. And it’s going to save it by accepting that the world is totally fucked and that’s all right, because it’s always been that way, and always will be. By not giving a fuck that you feel bad, you short-circuit the Feedback Loop from Hell; you say to yourself, “I feel like shit, but who gives a fuck?” And then, as if sprinkled by magic fuck-giving fairy dust, you stop hating yourself for feeling so bad. George Orwell said that to see what’s in front of one’s nose requires a constant struggle. Well, the solution to our stress and anxiety is right there in front of our noses, and we’re too busy watching porn and advertisements for ab machines that don’t work, wondering why we’re not banging a hot blonde with a rocking six-pack, to notice. We joke online about “first-world problems,” but we really have become victims of our own success. Stress-related health issues, anxiety disorders, and cases of depression have skyrocketed over the past thirty years, despite the fact that everyone has a flat-screen TV and can have their groceries delivered. Our crisis is no longer material; it’s existential, it’s spiritual. We have so much fucking stuff and so many opportunities that we don’t even knowwhat to give a fuck about anymore. Because there’s an infinite amount of things we can nowsee or know, there are also an infinite number of ways we can discover that we don’t measure up, that we’re not good enough, that things aren’t as great as they could be. And this rips us apart inside. Because here’s the thing that’s wrong with all of the “Howto Be Happy” shit that’s been shared eight million times on Facebook in the past fewyears—here’s what nobody realizes about all of this crap:  The de sire  for more positive e xpe rie nce  is  itse lf a ne gative e xpe rie nce . And, paradoxically,  the acce ptance of one ’s ne gative e xpe rie nce  is  itse lf a positive e xpe rie nce .  This is a total mind-fuck. So I’ll give you a minute to unpretzel your brain and maybe read that  again: Wanting positive experience is a negative experience; accepting negative experience is a  positive experience. It’s what the philosopher Alan Watts used to refer to as “the backwards law”— the idea that the more you pursue feeling better all the time, the less satisfied you become, as pursuing something only reinforces the fact that you lack it in the first place. The more you desperately want to be rich, the more poor and unworthy you feel, regardless of howmuch money you actually make. The more you desperately want to be sexy and desired, the uglier you come to see yourself, regardless of your actual physical appearance. The more you desperately want to be happy and loved, the lonelier and more afraid you become, regardless of those who surround you. The more you want to be spiritually enlightened, the more self-centered and shallowyou become in trying to get there.   It’s like this one time I tripped on acid and it felt like the more I walked toward a house, the farther away  the house got from me. And yes, I  just used my LSD hallucinations  to make a philosophical point about happiness. No fucks given. As the existential philosopher Albert Camus said (and I’m pretty sure he wasn’t on LSD at the time): “You will never be happy if you continue to search for what happiness consists of. You will never live if you are looking for the meaning of life.” Or put more simply: Don’t try. Now, I knowwhat you’re saying: “Mark, this is making my nipples all hard, but what about the Camaro I’ve been saving up for? What about the beach body I’ve been starving myself for? After all, I paid a lot of money for that ab machine! What about the big house on the lake I’ve been dreaming of? If I stop giving a fuck about those things—well, then I’ll never achieve anything. I don’t want that to happen, do I?” So glad you asked. Ever notice that sometimes when you care less about something, you do better at it? Notice howit’s often the person who is the least invested in the success of something that actually ends up achieving it? Notice howsometimes when you stop giving a fuck, everything seems to fall into place? What’s with that? What’s interesting about the backwards lawis that it’s called “backwards” for a reason: not giving a fuck works in reverse. If pursuing the positive is a negative, then pursuing the negative generates the positive. The pain you pursue in the gym results in better all-around health and energy. The failures in business are what lead to a better understanding of what’s necessary to be successful. Being open with your insecurities paradoxically makes you more confident and charismatic around others. The pain of honest confrontation is what generates the greatest trust and respect in your relationships. Suffering through your fears and anxieties is what allows you to build courage and perseverance. Seriously, I could keep going, but you get the point. Everything worthwhile in life is won through surmounting the associated negative experience. Any attempt to escape the negative, to avoid it or quash it or silence it, only backfires. The avoidance of suffering is a form of suffering. The avoidance of struggle is a struggle. The denial of failure is a failure. Hiding what is shameful is itself a form of shame. Pain is an inextricable thread in the fabric of life, and to tear it out is not only impossible, but destructive: attempting to tear it out unravels everything else with it. To try to avoid pain is to give too many fucks about pain. In contrast, if you’re able to not give a fuck about the pain, you become unstoppable. In my life, I have given a fuck about many things. I have also not given a fuck about many things. And like the road not taken, it was the fucks not given that made all the difference. Chances are you knowsomebody in your life who, at one time or another, did not give a fuck and then went on to accomplish amazing feats. Perhaps there was a time in your own life when you simply did not give a fuck and excelled to some extraordinary height. For myself, quitting my day job in finance after only six weeks to start an Internet business ranks pretty high up there in my own “didn’t give a fuck” hall of fame. Same with deciding to sell most of my possessions and move to South America. Fucks given? None. Just went and did it.   These moments of non-fuckery are the moments that most define our lives. The major switch in careers; the spontaneous choice to drop out of college and join a rock band; the decision to finally dump that deadbeat boyfriend whom you caught wearing your pantyhose a fewtoo many times. To not give a fuck is to stare down life’s most terrifying and difficult challenges and still take action. While not giving a fuck may seem simple on the surface, it’s a whole newbag of burritos under the hood. I don’t even knowwhat that sentence means, but I don’t give a fuck. A bag of burritos sounds awesome, so let’s just go with it. Most of us struggle throughout our lives by giving too many fucks in situations where fucks do not deserve to be given. We give too many fucks about the rude gas station attendant who gave us our change in nickels. We give too many fucks when a showwe liked was canceled on TV. We give too many fucks when our coworkers don’t bother asking us about our awesome weekend. Meanwhile, our credit cards are maxed out, our dog hates us, and Junior is snorting meth in the bathroom, yet we’re getting pissed off about nickels and Everybody Loves Raymond. Look, this is howit works. You’re going to die one day. I knowthat’s kind of obvious, but I just wanted to remind you in case you’d forgotten. You and everyone you knoware going to be dead soon. And in the short amount of time between here and there, you have a limited amount of fucks to give. Very few, in fact. And if you go around giving a fuck about everything and everyone without conscious thought or choice—well, then you’re going to get fucked. There is a subtle art to not giving a fuck. And though the concept may sound ridiculous and I may sound like an asshole, what I’m talking about here is essentially learning howto focus and prioritize your thoughts effectively—howto pick and choose what matters to you and what does not matter to you based on finely honed personal values. This is incredibly difficult. It takes a lifetime of practice and discipline to achieve. And you will regularly fail. But it is perhaps the most worthy struggle one can undertake in one’s life. It is perhaps the only struggle in one’s life. Because when you give too many fucks—when you give a fuck about everyone and everything— you will feel that you’re perpetually entitled to be comfortable and happy at all times, that everything is supposed to be just exactly the fucking way you want it to be. This is a sickness. And it will eat you alive. You will see every adversity as an injustice, every challenge as a failure, every inconvenience as a personal slight, every disagreement as a betrayal. You will be confined to your own petty, skull- sized hell, burning with entitlement and bluster, running circles around your very own personal Feedback Loop from Hell, in constant motion yet arriving nowhere.    When most people envision giving no fucks whatsoever, they imagine a kind of serene indifference to everything, a calm that weathers all storms. They imagine and aspire to be a person who is shaken by nothing and caves in to no one. There’s a name for a person who finds no emotion or meaning in anything: a psychopath. Why you would want to emulate a psychopath, I have no fucking clue. So what does not giving a fuck mean? Let’s look at three “subtleties” that should help clarify the matter.  Subtlety #1: Not giving a fuck does not mean being indifferent; it means being comfortable   with being different.  Let’s be clear. There’s absolutely nothing admirable or confident about indifference. People who are indifferent are lame and scared. They’re couch potatoes and Internet trolls. In fact, indifferent people often attempt to be indifferent because in reality they give way too many fucks. They give a fuck about what everyone thinks of their hair, so they never bother washing or combing it. They give a fuck about what everyone thinks of their ideas, so they hide behind sarcasm and self-righteous snark. They’re afraid to let anyone get close to them, so they imagine themselves as some special, unique snowflake who has problems that nobody else would ever understand. Indifferent people are afraid of the world and the repercussions of their own choices. That’s why they don’t make any meaningful choices. They hide in a gray, emotionless pit of their own making, self-absorbed and  self-pitying, perpetually distracting  themselves  from  this unfortunate  thing demanding their time and energy called life. Because here’s a sneaky truth about life. There’s no such thing as not giving a fuck. You must give a fuck about something. It’s part of our biology to always care about something and therefore to always give a fuck. The question, then, is, What do we give a fuck about? What are we choosing to give a fuck about? And howcan we not give a fuck about what ultimately does not matter? My mother was recently screwed out of a large chunk of money by a close friend of hers. Had I been indifferent, I would have shrugged my shoulders, sipped my mocha, and downloaded another season of The Wire. Sorry, Mom. But instead, I was indignant. I was pissed off. I said, “No, screwthat, Mom. We’re going to lawyer the fuck up and go after this asshole. Why? Because I don’t give a fuck. I will ruin this guy’s life if I have to.” This illustrates the first subtlety of not giving a fuck. When we say, “Damn, watch out, Mark Manson just don’t give a fuck,” we don’t mean that Mark Manson doesn’t care about anything; on the contrary, we mean that Mark Manson doesn’t care about adversity in the face of his goals, he doesn’t care about pissing some people off to do what he feels is right or important or noble. We mean that Mark Manson is the type of guy who would write about himself in third person just because he thought it was the right thing to do. He just doesn’t give a fuck. This  is what  is so admirable. No, not me, dumbass—the overcoming adversity stuff,  the willingness to be different, an outcast, a pariah, all for the sake of one’s own values. The willingness to stare failure in the face and shove your middle finger back at it. The people who don’t give a fuck about adversity or failure or embarrassing themselves or shitting the bed a fewtimes. The people who just laugh and then do what they believe in anyway. Because they knowit’s right. They knowit’s more important than they are, more important than their own feelings and their own pride and their own ego. They say, “Fuck it,” not to everything in life, but rather to everything unimportant in life. They reserve their fucks for what truly matters. Friends. Family. Purpose. Burritos. And an occasional lawsuit or two. And because of that, because they reserve their fucks for only the big things that matter, people give a fuck about them in return. Because here’s another sneaky little truth about life. You can’t be an important and life-changing presence for some people without also being a joke and an embarrassment to others. You just can’t. Because there’s no such thing as a lack of adversity. It doesn’t exist. The old saying goes that no matter where you go, there you are. Well, the same is true for adversity and failure. No matter where   you go, there’s a five-hundred-pound load of shit waiting for you. And that’s perfectly fine. The point isn’t to get away from the shit. The point is to find the shit you enjoy dealing with.  Subtlety #2: To not give a fuck about adversity, you must first give a fuck about something more important than adversity.  Imagine you’re at a grocery store, and you watch an elderly lady scream at the cashier, berating him for not accepting her thirty-cent coupon. Why does this lady give a fuck? It’s just thirty cents. I’ll tell you why: That lady probably doesn’t have anything better to do with her days than to sit at home cutting out coupons. She’s old and lonely. Her kids are dickheads and never visit. She hasn’t had sex in over thirty years. She can’t fart without extreme lower-back pain. Her pension is on its last legs, and she’s probably going to die in a diaper thinking she’s in Candy Land. So she snips coupons. That’s all she’s got. It’s her and her damn coupons. It’s all she can give a fuck about because there is nothing else to give a fuck about. And so when that pimply-faced seventeen-year-old cashier refuses to accept one of them, when he defends his cash register ’s purity the way knights used to defend maidens’ virginity, you can bet Granny is going to erupt. Eighty years of fucks will rain down all at once, like a fiery hailstorm of “Back in my day” and “People used to showmore respect” stories. The problem with people who hand out fucks like ice cream at a goddamn summer camp is that they don’t have anything more fuck-worthy to dedicate their fucks to. If you find yourself consistently giving too many fucks about trivial shit that bothers you—your ex- boyfriend’s newFacebook picture, howquickly the batteries die in the TV remote, missing out on yet another two-for-one sale on hand sanitizer—chances are you don’t have much going on in your life to give a legitimate fuck about. And that’s your real problem. Not the hand sanitizer. Not the TV remote. I once heard an artist say that when a person has no problems, the mind automatically finds a way to invent some. I think what most people—especially educated, pampered middle-class white people —consider “life problems” are really just side effects of not having anything more important to worry about. It then follows that finding something important and meaningful in your life is perhaps the most productive use of your time and energy. Because if you don’t find that meaningful something, your fucks will be given to meaningless and frivolous causes.  Subtlety #3: Whether you realize it or not, you are always choosing what to give a fuck about.  People aren’t just born not giving a fuck. In fact, we’re born giving way too many fucks. Ever watch a kid cry his eyes out because his hat is the wrong shade of blue? Exactly. Fuck that kid. When we’re young, everything is newand exciting, and everything seems to matter so much. Therefore, we give tons of fucks. We give a fuck about everything and everyone—about what people are saying about us, about whether that cute boy/girl called us back or not, about whether our socks match or not, or what color our birthday balloon is. As we get older, with the benefit of experience (and having seen so much time slip by), we begin to notice that most of these sorts of things have little lasting impact on our lives. Those people whose opinions we cared about so much before are no longer present in our lives. Rejections that were painful in the moment have actually worked out for the best. We realize howlittle attention people   pay to the superficial details about us, and we choose not to obsess so much over them. Essentially, we become more selective about the fucks we’re willing to give. This is something called maturity. It’s nice; you should try it sometime. Maturity is what happens when one learns to only give a fuck about what’s truly fuckworthy. As Bunk Moreland said to his partner Detective McNulty in The Wire (which, fuck you, I still downloaded): “That’s what you get for giving a fuck when it wasn’t your turn to give a fuck.” Then, as we growolder and enter middle age, something else begins to change. Our energy level drops. Our identity solidifies. We knowwho we are and we accept ourselves, including some of the parts we aren’t thrilled about. And, in a strange way, this is liberating. We no longer need to give a fuck about everything. Life is just what it is. We accept it, warts and all. We realize that we’re never going to cure cancer or go to the moon or feel Jennifer Aniston’s tits. And that’s okay. Life goes on. We nowreserve our ever- dwindling fucks for the most truly fuck-worthy parts of our lives: our families, our best friends, our golf swing. And, to our astonishment, this is enough. This simplification actually makes us really fucking happy on a consistent basis. And we start to think, Maybe that crazy alcoholic Bukowski was onto something. Don’t try.    This book will help you think a little bit more clearly about what you’re choosing to find important in life and what you’re choosing to find unimportant. I believe that today we’re facing a psychological epidemic, one in which people no longer realize it’s okay for things to suck sometimes. I knowthat sounds intellectually lazy on the surface, but I promise you, it’s a life/death sort of issue. Because when we believe that it’s not okay for things to suck sometimes, then we unconsciously start blaming ourselves. We start to feel as though something is inherently wrong with us, which drives us to all sorts of overcompensation, like buying forty pairs of shoes or downing Xanax with a vodka chaser on a Tuesday night or shooting up a school bus full of kids. This belief that it’s not okay to be inadequate sometimes is the source of the growing Feedback Loop from Hell that is coming to dominate our culture. The idea of not giving a fuck is a simple way of reorienting our expectations for life and choosing what is important and what is not. Developing this ability leads to something I like to think of as a kind of “practical enlightenment.” No, not that airy-fairy, eternal bliss, end-of-all-suffering, bullshitty kind of enlightenment. On the contrary, I see practical enlightenment as becoming comfortable with the idea that some suffering is always inevitable—that no matter what you do, life is comprised of failures, loss, regrets, and even death. Because once you become comfortable with all the shit that life throws at you (and it will throwa lot of shit, trust me), you become invincible in a sort of low-level spiritual way. After all, the only way to overcome pain is to first learn howto bear it. This book doesn’t give a fuck about alleviating your problems or your pain. And that is precisely why you will knowit’s being honest. This book is not some guide to greatness—it couldn’t be, because greatness  is merely an  illusion  in our minds, a made-up destination  that we obligate ourselves to pursue, our own psychological Atlantis.   Instead, this book will turn your pain into a tool, your trauma into power, and your problems into slightly better problems. That is real progress. Think of it as a guide to suffering and howto do it better, more meaningfully, with more compassion and more humility. It’s a book about moving lightly despite your heavy burdens, resting easier with your greatest fears, laughing at your tears as you cry them. This book will not teach you howto gain or achieve, but rather howto lose and let go. It will teach you to take inventory of your life and scrub out all but the most important items. It will teach you to close your eyes and trust that you can fall backwards and still be okay. It will teach you to give fewer fucks. It will teach you to not try.')"
      ]
     },
     "execution_count": 39,
     "metadata": {},
     "output_type": "execute_result"
    }
   ],
   "source": [
    "sub_content[0]"
   ]
  },
  {
   "cell_type": "code",
   "execution_count": 44,
   "metadata": {},
   "outputs": [],
   "source": [
    "subtle_fuck = dict(zip(chap_title, sub_content))"
   ]
  },
  {
   "cell_type": "code",
   "execution_count": 49,
   "metadata": {},
   "outputs": [],
   "source": [
    "from sumy.parsers.plaintext import PlaintextParser\n",
    "from sumy.summarizers.text_rank import TextRankSummarizer\n",
    "from sumy.nlp.tokenizers import Tokenizer\n",
    "from sumy.summarizers.lsa import LsaSummarizer\n",
    "from sumy.nlp.stemmers import Stemmer\n",
    "from sumy.utils import get_stop_words\n",
    " \n",
    "from sumy.summarizers.luhn import LuhnSummarizer\n",
    "from sumy.summarizers.lex_rank import LexRankSummarizer"
   ]
  },
  {
   "cell_type": "code",
   "execution_count": 58,
   "metadata": {},
   "outputs": [],
   "source": [
    "language = \"english\"\n",
    "sentence_count = 20"
   ]
  },
  {
   "cell_type": "code",
   "execution_count": 59,
   "metadata": {},
   "outputs": [],
   "source": [
    "parser = PlaintextParser(subtle_fuck['CHAPTER 1'][1], Tokenizer(language))"
   ]
  },
  {
   "cell_type": "code",
   "execution_count": 76,
   "metadata": {},
   "outputs": [],
   "source": [
    "from sumy.summarizers.lex_rank import LexRankSummarizer \n",
    "summarizer_ls = LexRankSummarizer(Stemmer(language))\n",
    "summarizer_ls.stop_words = get_stop_words(language)\n",
    "#Summarize the document with 2 sentences\n",
    "summary_ls = summarizer_ls(parser.document, sentence_count) \n",
    "lex=[str(sentence) for sentence in summary_ls]\n",
    "sum_ls = ''.join(lex)"
   ]
  },
  {
   "cell_type": "code",
   "execution_count": 77,
   "metadata": {},
   "outputs": [
    {
     "data": {
      "text/plain": [
       "'This is the real story of Bukowski’s success: his comfort with himself as a failure.Fame and success didn’t make him a better person.The key to a good life is not giving a fuck about more; it’s giving a fuck about less, giving a fuck about only what is true and immediate and important.By not giving a fuck that you feel bad, you short-circuit the Feedback Loop from Hell; you say to yourself, “I feel like shit, but who gives a fuck?” And then, as if sprinkled by magic fuck-giving fairy dust, you stop hating yourself for feeling so bad.No fucks given.In my life, I have given a fuck about many things.Fucks given?And if you go around giving a fuck about everything and everyone without conscious thought or choice—well, then you’re going to get fucked.So what does not giving a fuck mean?That’s why they don’t make any meaningful choices.There’s no such thing as not giving a fuck.You must give a fuck about something.Because I don’t give a fuck.He just doesn’t give a fuck.Subtlety #2: To not give a fuck about adversity, you must first give a fuck about something more important than adversity.It’s all she can give a fuck about because there is nothing else to give a fuck about.Life is just what it is.Life goes on.I believe that today we’re facing a psychological epidemic, one in which people no longer realize it’s okay for things to suck sometimes.This book doesn’t give a fuck about alleviating your problems or your pain.'"
      ]
     },
     "execution_count": 77,
     "metadata": {},
     "output_type": "execute_result"
    }
   ],
   "source": [
    "sum_"
   ]
  },
  {
   "cell_type": "code",
   "execution_count": 81,
   "metadata": {},
   "outputs": [],
   "source": [
    "from sumy.summarizers.lex_rank import LexRankSummarizer \n",
    "summarizer_l = LexRankSummarizer()\n",
    "summary_l = summarizer_l(parser.document, sentence_count) \n",
    "lex=[str(sentence) for sentence in summary_l]\n",
    "sum_l = ''.join(lex)"
   ]
  },
  {
   "cell_type": "code",
   "execution_count": 82,
   "metadata": {},
   "outputs": [
    {
     "data": {
      "text/plain": [
       "'This is the real story of Bukowski’s success: his comfort with himself as a failure.Ironically, this fixation on the positive—on what’s better, what’s superior—only serves to remind us over and over again of what we are not, of what we lack, of what we should have been but failed to be.The key to a good life is not giving a fuck about more; it’s giving a fuck about less, giving a fuck about only what is true and immediate and important.What is wrong with  This is why not giving a fuck is so key.This is why it’s going to save the world.And it’s going to save it by accepting that the world is totally fucked and that’s all right, because it’s always been that way, and always will be.By not giving a fuck that you feel bad, you short-circuit the Feedback Loop from Hell; you say to yourself, “I feel like shit, but who gives a fuck?” And then, as if sprinkled by magic fuck-giving fairy dust, you stop hating yourself for feeling so bad.We have so much fucking stuff and so many opportunities that we don’t even knowwhat to give a fuck about anymore.It’s what the philosopher Alan Watts used to refer to as “the backwards law”— the idea that the more you pursue feeling better all the time, the less satisfied you become, as pursuing something only reinforces the fact that you lack it in the first place.What’s with that?Because when you give too many fucks—when you give a fuck about everyone and everything— you will feel that you’re perpetually entitled to be comfortable and happy at all times, that everything is supposed to be just exactly the fucking way you want it to be.What are we choosing to give a fuck about?Because I don’t give a fuck.He just doesn’t give a fuck.It’s all she can give a fuck about because there is nothing else to give a fuck about.If you find yourself consistently giving too many fucks about trivial shit that bothers you—your ex- boyfriend’s newFacebook picture, howquickly the batteries die in the TV remote, missing out on yet another two-for-one sale on hand sanitizer—chances are you don’t have much going on in your life to give a legitimate fuck about.Life is just what it is.We nowreserve our ever- dwindling fucks for the most truly fuck-worthy parts of our lives: our families, our best friends, our golf swing.The idea of not giving a fuck is a simple way of reorienting our expectations for life and choosing what is important and what is not.Because once you become comfortable with all the shit that life throws at you (and it will throwa lot of shit, trust me), you become invincible in a sort of low-level spiritual way.'"
      ]
     },
     "execution_count": 82,
     "metadata": {},
     "output_type": "execute_result"
    }
   ],
   "source": [
    "sum_l"
   ]
  },
  {
   "cell_type": "code",
   "execution_count": 84,
   "metadata": {},
   "outputs": [],
   "source": [
    "summarizer_lus = LuhnSummarizer(Stemmer(language))\n",
    "summarizer_lus.stop_words = get_stop_words(language)\n",
    "summary_lus = summarizer_lus(parser.document, sentence_count)\n",
    "lex=[str(sentence) for sentence in summary_lus]\n",
    "sum_lus = ''.join(lex)"
   ]
  },
  {
   "cell_type": "code",
   "execution_count": 85,
   "metadata": {},
   "outputs": [
    {
     "data": {
      "text/plain": [
       "'It was called simply Post Office.Our culture today is obsessively focused on unrealistically positive expectations: Be happier.And then, in your petty rage, you realize that being angry all the time makes you a shallowand mean person, and you hate this; you hate it so much that you get angry at yourself.So I can think about watching Miley Cyrus videos on YouTube, and then immediately think about what a sicko I am for wanting to watch Miley Cyrus videos on YouTube.Nowif you feel like shit for even five minutes, you’re bombarded with 350 images of people totally happy and having amazing fucking lives, and it’s impossible to not feel like there’s something wrong with you.By not giving a fuck that you feel bad, you short-circuit the Feedback Loop from Hell; you say to yourself, “I feel like shit, but who gives a fuck?” And then, as if sprinkled by magic fuck-giving fairy dust, you stop hating yourself for feeling so bad.Stress-related health issues, anxiety disorders, and cases of depression have skyrocketed over the past thirty years, despite the fact that everyone has a flat-screen TV and can have their groceries delivered.Because here’s the thing that’s wrong with all of the “Howto Be Happy” shit that’s been shared eight million times on Facebook in the past fewyears—here’s what nobody realizes about all of this crap:  The de sire  for more positive e xpe rie nce  is  itse lf a ne gative e xpe rie nce .And, paradoxically,  the acce ptance of one ’s ne gative e xpe rie nce  is  itse lf a positive e xpe rie nce .So I’ll give you a minute to unpretzel your brain and maybe read that  again: Wanting positive experience is a negative experience; accepting negative experience is a  positive experience.If pursuing the positive is a negative, then pursuing the negative generates the positive.The pain of honest confrontation is what generates the greatest trust and respect in your relationships.And though the concept may sound ridiculous and I may sound like an asshole, what I’m talking about here is essentially learning howto focus and prioritize your thoughts effectively—howto pick and choose what matters to you and what does not matter to you based on finely honed personal values.In fact, indifferent people often attempt to be indifferent because in reality they give way too many fucks.When we say, “Damn, watch out, Mark Manson just don’t give a fuck,” we don’t mean that Mark Manson doesn’t care about anything; on the contrary, we mean that Mark Manson doesn’t care about adversity in the face of his goals, he doesn’t care about pissing some people off to do what he feels is right or important or noble.The people who don’t give a fuck about adversity or failure or embarrassing themselves or shitting the bed a fewtimes.And because of that, because they reserve their fucks for only the big things that matter, people give a fuck about them in return.If you find yourself consistently giving too many fucks about trivial shit that bothers you—your ex- boyfriend’s newFacebook picture, howquickly the batteries die in the TV remote, missing out on yet another two-for-one sale on hand sanitizer—chances are you don’t have much going on in your life to give a legitimate fuck about.I once heard an artist say that when a person has no problems, the mind automatically finds a way to invent some.The idea of not giving a fuck is a simple way of reorienting our expectations for life and choosing what is important and what is not.'"
      ]
     },
     "execution_count": 85,
     "metadata": {},
     "output_type": "execute_result"
    }
   ],
   "source": [
    "sum_lus"
   ]
  },
  {
   "cell_type": "code",
   "execution_count": 90,
   "metadata": {},
   "outputs": [],
   "source": [
    "summarizer_lu = LuhnSummarizer()\n",
    "summary_lu = summarizer_lu(parser.document, sentence_count)\n",
    "lex=[str(sentence) for sentence in summary_lu]\n",
    "sum_lu = ''.join(lex)"
   ]
  },
  {
   "cell_type": "code",
   "execution_count": 91,
   "metadata": {},
   "outputs": [
    {
     "data": {
      "text/plain": [
       "'He persisted against all the odds and made something of himself!” It is then strange that on Bukowski’s tombstone, the epitaph reads: “Don’t try.” See, despite the book sales and the fame, Bukowski was a loser.Ironically, this fixation on the positive—on what’s better, what’s superior—only serves to remind us over and over again of what we are not, of what we lack, of what we should have been but failed to be.The key to a good life is not giving a fuck about more; it’s giving a fuck about less, giving a fuck about only what is true and immediate and important.And then, in your petty rage, you realize that being angry all the time makes you a shallowand mean person, and you hate this; you hate it so much that you get angry at yourself.Nowif you feel like shit for even five minutes, you’re bombarded with 350 images of people totally happy and having amazing fucking lives, and it’s impossible to not feel like there’s something wrong with you.And it’s going to save it by accepting that the world is totally fucked and that’s all right, because it’s always been that way, and always will be.By not giving a fuck that you feel bad, you short-circuit the Feedback Loop from Hell; you say to yourself, “I feel like shit, but who gives a fuck?” And then, as if sprinkled by magic fuck-giving fairy dust, you stop hating yourself for feeling so bad.Well, the solution to our stress and anxiety is right there in front of our noses, and we’re too busy watching porn and advertisements for ab machines that don’t work, wondering why we’re not banging a hot blonde with a rocking six-pack, to notice.Because there’s an infinite amount of things we can nowsee or know, there are also an infinite number of ways we can discover that we don’t measure up, that we’re not good enough, that things aren’t as great as they could be.Because here’s the thing that’s wrong with all of the “Howto Be Happy” shit that’s been shared eight million times on Facebook in the past fewyears—here’s what nobody realizes about all of this crap:  The de sire  for more positive e xpe rie nce  is  itse lf a ne gative e xpe rie nce .It’s what the philosopher Alan Watts used to refer to as “the backwards law”— the idea that the more you pursue feeling better all the time, the less satisfied you become, as pursuing something only reinforces the fact that you lack it in the first place.As the existential philosopher Albert Camus said (and I’m pretty sure he wasn’t on LSD at the time): “You will never be happy if you continue to search for what happiness consists of.And though the concept may sound ridiculous and I may sound like an asshole, what I’m talking about here is essentially learning howto focus and prioritize your thoughts effectively—howto pick and choose what matters to you and what does not matter to you based on finely honed personal values.Because when you give too many fucks—when you give a fuck about everyone and everything— you will feel that you’re perpetually entitled to be comfortable and happy at all times, that everything is supposed to be just exactly the fucking way you want it to be.When we say, “Damn, watch out, Mark Manson just don’t give a fuck,” we don’t mean that Mark Manson doesn’t care about anything; on the contrary, we mean that Mark Manson doesn’t care about adversity in the face of his goals, he doesn’t care about pissing some people off to do what he feels is right or important or noble.If you find yourself consistently giving too many fucks about trivial shit that bothers you—your ex- boyfriend’s newFacebook picture, howquickly the batteries die in the TV remote, missing out on yet another two-for-one sale on hand sanitizer—chances are you don’t have much going on in your life to give a legitimate fuck about.We give a fuck about everything and everyone—about what people are saying about us, about whether that cute boy/girl called us back or not, about whether our socks match or not, or what color our birthday balloon is.As Bunk Moreland said to his partner Detective McNulty in The Wire (which, fuck you, I still downloaded): “That’s what you get for giving a fuck when it wasn’t your turn to give a fuck.” Then, as we growolder and enter middle age, something else begins to change.On the contrary, I see practical enlightenment as becoming comfortable with the idea that some suffering is always inevitable—that no matter what you do, life is comprised of failures, loss, regrets, and even death.Because once you become comfortable with all the shit that life throws at you (and it will throwa lot of shit, trust me), you become invincible in a sort of low-level spiritual way.'"
      ]
     },
     "execution_count": 91,
     "metadata": {},
     "output_type": "execute_result"
    }
   ],
   "source": [
    "sum_lu"
   ]
  },
  {
   "cell_type": "code",
   "execution_count": 125,
   "metadata": {},
   "outputs": [
    {
     "data": {
      "text/plain": [
       "'Everyone and their TV commercial wants you to believe that the key to a good life is a nicer job, or a more rugged car, or a prettier girlfriend, or a hot tub with an inflatable pool for the kids.Nowhere’s the problem: Our society today, through the wonders of consumer culture and hey- look-my-life-is-cooler-than-yours social media, has bred a whole generation of people who believe that having these negative experiences—anxiety, fear, guilt, etc.—is totally not okay.Well, the solution to our stress and anxiety is right there in front of our noses, and we’re too busy watching porn and advertisements for ab machines that don’t work, wondering why we’re not banging a hot blonde with a rocking six-pack, to notice.The major switch in careers; the spontaneous choice to drop out of college and join a rock band; the decision to finally dump that deadbeat boyfriend whom you caught wearing your pantyhose a fewtoo many times.We start to feel as though something is inherently wrong with us, which drives us to all sorts of overcompensation, like buying forty pairs of shoes or downing Xanax with a vodka chaser on a Tuesday night or shooting up a school bus full of kids.'"
      ]
     },
     "execution_count": 125,
     "metadata": {},
     "output_type": "execute_result"
    }
   ],
   "source": [
    "summarizer_lss = LsaSummarizer(Stemmer(language))\n",
    "summarizer_lss.stop_words = get_stop_words(language)\n",
    "summary_lss = summarizer_lss(parser.document, 5)\n",
    "lex=[str(sentence) for sentence in summary_lss]\n",
    "sum_lss= ''.join(lex)\n",
    "sum_lss"
   ]
  },
  {
   "cell_type": "code",
   "execution_count": 93,
   "metadata": {},
   "outputs": [
    {
     "data": {
      "text/plain": [
       "'But for decades his work was rejected by almost every magazine, newspaper, journal, agent, and publisher he submitted to.At night, he would drink alone and sometimes hammer out poetry on his beat-up old typewriter.I have decided to starve.” Upon signing the contract, Bukowski wrote his first novel in three weeks.In the dedication, he wrote, “Dedicated to nobody.” Bukowski would make it as a novelist and poet.Bukowski’s life embodies the American Dream: a man fights for what he wants, never gives up, and eventually achieves his wildest dreams.This is the real story of Bukowski’s success: his comfort with himself as a failure.Nor was it by becoming a better person that he became famous and successful.You are constantly bombarded with messages to give a fuck about everything, all the time.I mean, if you look at your Facebook feed, everybody there is having a fucking grand old time.And yes, I  just used my LSD hallucinations  to make a philosophical point about happiness.As the existential philosopher Albert Camus said (and I’m pretty sure he wasn’t on LSD at the time): “You will never be happy if you continue to search for what happiness consists of.Notice howsometimes when you stop giving a fuck, everything seems to fall into place?Being open with your insecurities paradoxically makes you more confident and charismatic around others.Chances are you knowsomebody in your life who, at one time or another, did not give a fuck and then went on to accomplish amazing feats.We give too many fucks about the rude gas station attendant who gave us our change in nickels.I think what most people—especially educated, pampered middle-class white people —consider “life problems” are really just side effects of not having anything more important to worry about.Because if you don’t find that meaningful something, your fucks will be given to meaningless and frivolous causes.Those people whose opinions we cared about so much before are no longer present in our lives.I believe that today we’re facing a psychological epidemic, one in which people no longer realize it’s okay for things to suck sometimes.It will teach you to take inventory of your life and scrub out all but the most important items.'"
      ]
     },
     "execution_count": 93,
     "metadata": {},
     "output_type": "execute_result"
    }
   ],
   "source": [
    "summarizer_ls = LsaSummarizer()\n",
    "summary_ls = summarizer_ls(parser.document, sentence_count)\n",
    "lex=[str(sentence) for sentence in summary_ls]\n",
    "sum_ls= ''.join(lex)\n",
    "sum_ls"
   ]
  },
  {
   "cell_type": "code",
   "execution_count": 94,
   "metadata": {},
   "outputs": [
    {
     "data": {
      "text/plain": [
       "'Bukowski didn’t give a fuck about success.The key to a good life is not giving a fuck about more; it’s giving a fuck about less, giving a fuck about only what is true and immediate and important.Nowif you feel like shit for even five minutes, you’re bombarded with 350 images of people totally happy and having amazing fucking lives, and it’s impossible to not feel like there’s something wrong with you.By not giving a fuck that you feel bad, you short-circuit the Feedback Loop from Hell; you say to yourself, “I feel like shit, but who gives a fuck?” And then, as if sprinkled by magic fuck-giving fairy dust, you stop hating yourself for feeling so bad.We have so much fucking stuff and so many opportunities that we don’t even knowwhat to give a fuck about anymore.Most of us struggle throughout our lives by giving too many fucks in situations where fucks do not deserve to be given.And if you go around giving a fuck about everything and everyone without conscious thought or choice—well, then you’re going to get fucked.Because when you give too many fucks—when you give a fuck about everyone and everything— you will feel that you’re perpetually entitled to be comfortable and happy at all times, that everything is supposed to be just exactly the fucking way you want it to be.So what does not giving a fuck mean?There’s no such thing as not giving a fuck.You must give a fuck about something.Because I don’t give a fuck.When we say, “Damn, watch out, Mark Manson just don’t give a fuck,” we don’t mean that Mark Manson doesn’t care about anything; on the contrary, we mean that Mark Manson doesn’t care about adversity in the face of his goals, he doesn’t care about pissing some people off to do what he feels is right or important or noble.The people who don’t give a fuck about adversity or failure or embarrassing themselves or shitting the bed a fewtimes.And because of that, because they reserve their fucks for only the big things that matter, people give a fuck about them in return.Subtlety #2: To not give a fuck about adversity, you must first give a fuck about something more important than adversity.It’s all she can give a fuck about because there is nothing else to give a fuck about.The problem with people who hand out fucks like ice cream at a goddamn summer camp is that they don’t have anything more fuck-worthy to dedicate their fucks to.If you find yourself consistently giving too many fucks about trivial shit that bothers you—your ex- boyfriend’s newFacebook picture, howquickly the batteries die in the TV remote, missing out on yet another two-for-one sale on hand sanitizer—chances are you don’t have much going on in your life to give a legitimate fuck about.As Bunk Moreland said to his partner Detective McNulty in The Wire (which, fuck you, I still downloaded): “That’s what you get for giving a fuck when it wasn’t your turn to give a fuck.” Then, as we growolder and enter middle age, something else begins to change.'"
      ]
     },
     "execution_count": 94,
     "metadata": {},
     "output_type": "execute_result"
    }
   ],
   "source": [
    "summarizer_ts= TextRankSummarizer(Stemmer(language))\n",
    "summarizer_ts.stop_words = get_stop_words(language)\n",
    "summary_ts = summarizer_ts(parser.document, sentence_count)\n",
    "lex=[str(sentence) for sentence in summary_ts]\n",
    "sum_ts= ''.join(lex)\n",
    "sum_ts"
   ]
  },
  {
   "cell_type": "code",
   "execution_count": 95,
   "metadata": {},
   "outputs": [
    {
     "data": {
      "text/plain": [
       "'He persisted against all the odds and made something of himself!” It is then strange that on Bukowski’s tombstone, the epitaph reads: “Don’t try.” See, despite the book sales and the fame, Bukowski was a loser.And his success stemmed not from some determination to be a winner, but from the fact that he knewhe was a loser,   accepted it, and then wrote honestly about it.Ironically, this fixation on the positive—on what’s better, what’s superior—only serves to remind us over and over again of what we are not, of what we lack, of what we should have been but failed to be.And if you’re dreaming of something all the time, then you’re reinforcing the same unconscious reality over and over: that you are not that.Everyone and their TV commercial wants you to believe that the key to a good life is a nicer job, or a more rugged car, or a prettier girlfriend, or a hot tub with an inflatable pool for the kids.It causes you to become overly attached to the superficial and fake, to dedicate your life to chasing a mirage of happiness and satisfaction.The key to a good life is not giving a fuck about more; it’s giving a fuck about less, giving a fuck about only what is true and immediate and important.And then, in your petty rage, you realize that being angry all the time makes you a shallowand mean person, and you hate this; you hate it so much that you get angry at yourself.And it’s going to save it by accepting that the world is totally fucked and that’s all right, because it’s always been that way, and always will be.By not giving a fuck that you feel bad, you short-circuit the Feedback Loop from Hell; you say to yourself, “I feel like shit, but who gives a fuck?” And then, as if sprinkled by magic fuck-giving fairy dust, you stop hating yourself for feeling so bad.Well, the solution to our stress and anxiety is right there in front of our noses, and we’re too busy watching porn and advertisements for ab machines that don’t work, wondering why we’re not banging a hot blonde with a rocking six-pack, to notice.Because here’s the thing that’s wrong with all of the “Howto Be Happy” shit that’s been shared eight million times on Facebook in the past fewyears—here’s what nobody realizes about all of this crap:  The de sire  for more positive e xpe rie nce  is  itse lf a ne gative e xpe rie nce .It’s what the philosopher Alan Watts used to refer to as “the backwards law”— the idea that the more you pursue feeling better all the time, the less satisfied you become, as pursuing something only reinforces the fact that you lack it in the first place.The major switch in careers; the spontaneous choice to drop out of college and join a rock band; the decision to finally dump that deadbeat boyfriend whom you caught wearing your pantyhose a fewtoo many times.And though the concept may sound ridiculous and I may sound like an asshole, what I’m talking about here is essentially learning howto focus and prioritize your thoughts effectively—howto pick and choose what matters to you and what does not matter to you based on finely honed personal values.Because when you give too many fucks—when you give a fuck about everyone and everything— you will feel that you’re perpetually entitled to be comfortable and happy at all times, that everything is supposed to be just exactly the fucking way you want it to be.When we say, “Damn, watch out, Mark Manson just don’t give a fuck,” we don’t mean that Mark Manson doesn’t care about anything; on the contrary, we mean that Mark Manson doesn’t care about adversity in the face of his goals, he doesn’t care about pissing some people off to do what he feels is right or important or noble.If you find yourself consistently giving too many fucks about trivial shit that bothers you—your ex- boyfriend’s newFacebook picture, howquickly the batteries die in the TV remote, missing out on yet another two-for-one sale on hand sanitizer—chances are you don’t have much going on in your life to give a legitimate fuck about.As Bunk Moreland said to his partner Detective McNulty in The Wire (which, fuck you, I still downloaded): “That’s what you get for giving a fuck when it wasn’t your turn to give a fuck.” Then, as we growolder and enter middle age, something else begins to change.The idea of not giving a fuck is a simple way of reorienting our expectations for life and choosing what is important and what is not.'"
      ]
     },
     "execution_count": 95,
     "metadata": {},
     "output_type": "execute_result"
    }
   ],
   "source": [
    "summarizer_t= TextRankSummarizer()\n",
    "summary_t = summarizer_t(parser.document, sentence_count)\n",
    "lex=[str(sentence) for sentence in summary_t]\n",
    "sum_t= ''.join(lex)\n",
    "sum_t"
   ]
  },
  {
   "cell_type": "code",
   "execution_count": 96,
   "metadata": {},
   "outputs": [
    {
     "data": {
      "text/plain": [
       "'Charles Bukowski was an alcoholic, a womanizer, a chronic gambler, a lout, a cheapskate, a deadbeat, and on his worst days, a poet.He’s probably the last person on earth you would ever look to for life advice or expect to see in any sort of self-help book.Which is why he’s the perfect place to start.Bukowski wanted to be a writer.But for decades his work was rejected by almost every magazine, newspaper, journal, agent, and publisher he submitted to.His work was horrible, they said.Crude.Disgusting.Depraved.And as the stacks of rejection slips piled up, the weight of his failures pushed him deep into an alcohol-fueled depression that would followhim for most of his life.He never stopped trying.He never tried to be anything other than what he was.He still exposed himself in public and tried to sleep with every woman he could find.You try goofy visualization exercises about being more successful because you feel as though you aren’t successful enough already.The more you want to be spiritually enlightened, the more self-centered and shallowyou become in trying to get there.You will never live if you are looking for the meaning of life.” Or put more simply: Don’t try.To try to avoid pain is to give too many fucks about pain.It’s nice; you should try it sometime.Don’t try.It will teach you to not try.'"
      ]
     },
     "execution_count": 96,
     "metadata": {},
     "output_type": "execute_result"
    }
   ],
   "source": [
    "from sumy.summarizers.edmundson import EdmundsonSummarizer\n",
    "summarizer_4 = EdmundsonSummarizer(Stemmer(language))\n",
    "summarizer_4.stop_words = get_stop_words(language)\n",
    "summarizer_4.bonus_words = subtle_fuck['CHAPTER 1'][0].split()\n",
    "summarizer_4.stigma_words = ['zdfgthdvndadv']\n",
    "summarizer_4.null_words = ['zdfgthdvndadv']\n",
    "summary_4 = summarizer_4(parser.document, sentence_count)\n",
    "lex=[str(sentence) for sentence in summary_4]\n",
    "sum_4= ''.join(lex)\n",
    "sum_4"
   ]
  },
  {
   "cell_type": "code",
   "execution_count": 97,
   "metadata": {},
   "outputs": [
    {
     "data": {
      "text/plain": [
       "'Charles Bukowski was an alcoholic, a womanizer, a chronic gambler, a lout, a cheapskate, a deadbeat, and on his worst days, a poet.He’s probably the last person on earth you would ever look to for life advice or expect to see in any sort of self-help book.Which is why he’s the perfect place to start.Bukowski wanted to be a writer.But for decades his work was rejected by almost every magazine, newspaper, journal, agent, and publisher he submitted to.His work was horrible, they said.Crude.Disgusting.Depraved.And as the stacks of rejection slips piled up, the weight of his failures pushed him deep into an alcohol-fueled depression that would followhim for most of his life.Bukowski had a day job as a letter-filer at a post office.He got paid shit money and spent most of it on booze.He gambled away the rest at the racetrack.At night, he would drink alone and sometimes hammer out poetry on his beat-up old typewriter.You try goofy visualization exercises about being more successful because you feel as though you aren’t successful enough already.You will never live if you are looking for the meaning of life.” Or put more simply: Don’t try.To try to avoid pain is to give too many fucks about pain.It’s nice; you should try it sometime.Don’t try.It will teach you to not try.'"
      ]
     },
     "execution_count": 97,
     "metadata": {},
     "output_type": "execute_result"
    }
   ],
   "source": [
    "from sumy.summarizers.edmundson import EdmundsonSummarizer\n",
    "summarizer_41 = EdmundsonSummarizer()\n",
    "summarizer_41.bonus_words = subtle_fuck['CHAPTER 1'][0].split()\n",
    "summarizer_41.stigma_words = ['zdfgthdvndadv']\n",
    "summarizer_41.null_words = ['zdfgthdvndadv']\n",
    "summary_41 = summarizer_41(parser.document, sentence_count)\n",
    "lex=[str(sentence) for sentence in summary_41]\n",
    "sum_41= ''.join(lex)\n",
    "sum_41"
   ]
  },
  {
   "cell_type": "code",
   "execution_count": 108,
   "metadata": {},
   "outputs": [
    {
     "name": "stdout",
     "output_type": "stream",
     "text": [
      "{'emotion': {'Angry': 0.1558696743, 'Happy': 0.2546120005, 'Excited': 0.2173595505, 'Fear': 0.1568238072, 'Sad': 0.1459234372, 'Bored': 0.0694115303}}\n"
     ]
    }
   ],
   "source": [
    "# import paralleldots\n",
    "# paralleldots.set_api_key(\"byV9vK4SDSH8H2RQwUthT4WTHHiqjAmPZgG09PRAL8A\")\n",
    "# # for single sentence\n",
    "# text=sum_41\n",
    "# response=paralleldots.emotion(text)\n",
    "# print(response)"
   ]
  },
  {
   "cell_type": "code",
   "execution_count": 99,
   "metadata": {},
   "outputs": [
    {
     "name": "stdout",
     "output_type": "stream",
     "text": [
      "{'emotion': {'Angry': 0.1184652221, 'Happy': 0.2872531827, 'Excited': 0.1523725347, 'Fear': 0.0887407952, 'Sad': 0.3258657433, 'Bored': 0.027302522}}\n"
     ]
    }
   ],
   "source": [
    "# text=subtle_fuck['CHAPTER 2'][1]\n",
    "# response=paralleldots.emotion(text)\n",
    "# print(response)"
   ]
  },
  {
   "cell_type": "code",
   "execution_count": 100,
   "metadata": {},
   "outputs": [
    {
     "name": "stdout",
     "output_type": "stream",
     "text": [
      "{'emotion': {'Angry': 0.1734863695, 'Happy': 0.282283703, 'Excited': 0.1845289833, 'Fear': 0.1914099599, 'Sad': 0.1170131829, 'Bored': 0.0512778013}}\n"
     ]
    }
   ],
   "source": [
    "# text=subtle_fuck['CHAPTER 3'][1]\n",
    "# response=paralleldots.emotion(text)\n",
    "# print(response)"
   ]
  },
  {
   "cell_type": "code",
   "execution_count": 101,
   "metadata": {},
   "outputs": [
    {
     "name": "stdout",
     "output_type": "stream",
     "text": [
      "{'emotion': {'Angry': 0.0596885992, 'Happy': 0.3614626129, 'Excited': 0.3160633585, 'Fear': 0.1631570938, 'Sad': 0.0408590429, 'Bored': 0.0587692928}}\n"
     ]
    }
   ],
   "source": [
    "# text=\"This is a good boy\"\n",
    "# response=paralleldots.emotion(text)\n",
    "# print(response)"
   ]
  },
  {
   "cell_type": "code",
   "execution_count": 102,
   "metadata": {},
   "outputs": [
    {
     "name": "stdout",
     "output_type": "stream",
     "text": [
      "{'emotion': {'Angry': 0.1494150488, 'Happy': 0.1768528872, 'Excited': 0.4240897672, 'Fear': 0.145992481, 'Sad': 0.0676083818, 'Bored': 0.0360414341}}\n"
     ]
    }
   ],
   "source": [
    "# text=\"This is a bad boy\"\n",
    "# response=paralleldots.emotion(text)\n",
    "# print(response)"
   ]
  },
  {
   "cell_type": "code",
   "execution_count": 109,
   "metadata": {},
   "outputs": [
    {
     "name": "stdout",
     "output_type": "stream",
     "text": [
      "{\"emotions_detected\":[\"joy\",\"fear\"],\"emotion_scores\":{\"joy\":0.23364711079287,\"surprise\":0.013342565764503,\"disgust\":0,\"sadness\":0,\"anger\":0,\"fear\":0.05},\"version\":\"7.0.0\",\"author\":\"twinword inc.\",\"email\":\"help@twinword.com\",\"result_code\":\"200\",\"result_msg\":\"Success\"}\n"
     ]
    }
   ],
   "source": [
    "# import requests\n",
    "\n",
    "# url = \"https://twinword-emotion-analysis-v1.p.rapidapi.com/analyze/\"\n",
    "\n",
    "# querystring = {\"text\":sum_ls}\n",
    "\n",
    "# headers = {\n",
    "#     'x-rapidapi-host': \"twinword-emotion-analysis-v1.p.rapidapi.com\",\n",
    "#     'x-rapidapi-key': \"5b32dd9061msh2189910d24cf5dcp18b2afjsn60e1ddb85f36\"\n",
    "#     }\n",
    "\n",
    "# response = requests.request(\"GET\", url, headers=headers, params=querystring)\n",
    "\n",
    "# print(response.text)"
   ]
  },
  {
   "cell_type": "code",
   "execution_count": 112,
   "metadata": {},
   "outputs": [
    {
     "data": {
      "text/plain": [
       "[{'anger': 0.3618364930152893,\n",
       "  'sadness': 0.2498951554298401,\n",
       "  'joy': 0.23101647198200226,\n",
       "  'fear': 0.1260492503643036,\n",
       "  'surprise': 0.031202638521790504}]"
      ]
     },
     "execution_count": 112,
     "metadata": {},
     "output_type": "execute_result"
    }
   ],
   "source": [
    "'7d2611f58d540c3f1d89093384b25bbc'\n",
    "# import indicoio\n",
    "# indicoio.config.api_key = '7d2611f58d540c3f1d89093384b25bbc' \n",
    "\n",
    "# # single example\n",
    "# indicoio.emotion([sum_ls])\n"
   ]
  },
  {
   "cell_type": "code",
   "execution_count": 113,
   "metadata": {},
   "outputs": [],
   "source": [
    "parser1 = PlaintextParser(subtle_fuck['CHAPTER 2'][1], Tokenizer(language))"
   ]
  },
  {
   "cell_type": "code",
   "execution_count": 116,
   "metadata": {},
   "outputs": [
    {
     "data": {
      "text/plain": [
       "'He’d wear a cheesy eye mask and a shirt (with a giant capital T on it) that was way too small for his big panda belly, and his superpower would be to tell people harsh truths about themselves that they needed to hear but didn’t want to accept.And this is what’s so dangerous about a society that coddles itself more and more from the inevitable discomforts of life: we lose the benefits of experiencing healthy doses of pain, a loss that   disconnects us from the reality of the world around us.Look, I don’t mean to make light of your midlife crisis or the fact that your drunk dad stole your bike when you were eight years old and you still haven’t gotten over it, but when it comes down to it, if you feel crappy it’s because your brain is telling you that there’s a problem that’s unaddressed or unresolved.“Oh, I broke your windshield, but I was really mad; I couldn’t help it.” Or “I dropped out of school and moved to Alaska just because it felt right.” Decision-making based on emotional intuition, without the aid of reason to keep it in line, pretty much always sucks.Everyone wants to live a carefree, happy, and easy life, to fall in love and have amazing sex and relationships, to look perfect and make money and be popular and well-respected and admired and a total baller to the point that people part like the Red Sea when they walk into the room.Most people want to have great sex and an awesome relationship, but not everyone is willing to go through the tough conversations, the awkward silences, the hurt feelings, and the emotional psychodrama to get there.Whether you suffer from anxiety or loneliness or obsessive-compulsive disorder or a dickhead boss who ruins half of your waking hours every day, the solution lies in the acceptance and active engagement of that negative experience—not the avoidance of it, not the salvation from it.But you don’t end up a successful entrepreneur unless you find a way to appreciate the risk, the uncertainty, the repeated failures, the insane hours devoted to something that may earn absolutely nothing.But you don’t end up attracting someone amazing without appreciating the emotional turbulence that comes with weathering rejections, building the sexual tension that never gets released, and staring blankly at a phone that never rings.Any badass guitar song I heard, I would always close my eyes and envision myself up on stage, playing it to the screams of the crowd, people absolutely losing their minds to my sweet finger-noodling glory.'"
      ]
     },
     "execution_count": 116,
     "metadata": {},
     "output_type": "execute_result"
    }
   ],
   "source": [
    "summarizer_lss = LsaSummarizer(Stemmer(language))\n",
    "summarizer_lss.stop_words = get_stop_words(language)\n",
    "summary_lss = summarizer_lss(parser1.document, 10)\n",
    "lex=[str(sentence) for sentence in summary_lss]\n",
    "sum_lss= ''.join(lex)\n",
    "sum_lss"
   ]
  },
  {
   "cell_type": "code",
   "execution_count": 117,
   "metadata": {},
   "outputs": [
    {
     "data": {
      "text/plain": [
       "'He sawsick people, old people, homeless people, people in pain, even people dying.He would go door-to-door like a Bible salesman and ring doorbells and say things like, “Sure, making a lot of money makes you feel good, but it won’t make your kids love you,” or “If you have to ask yourself if you trust your wife, then you probably don’t,” or “What you consider ‘friendship’ is really just your constant attempts to impress people.” Then he’d tell the homeowner to have a nice day and saunter on down to the next house.The keyword here is “solving.” If you’re avoiding your problems or feel like you don’t have any problems, then you’re going to make yourself miserable.Happiness is a constant work-in-progress, because solving problems is a constant work-in- progress—the solutions to today’s problems will lay the foundation for tomorrow’s problems, and so on.Whatever your problems are, the concept is the same: solve problems; be happy.People deny and blame others for their problems for the simple reason that it’s easy and feels good, while solving problems is hard and often feels bad.Everything comes with an inherent sacrifice—whatever makes us feel good will also inevitably make us feel bad.Everyone wants to live a carefree, happy, and easy life, to fall in love and have amazing sex and relationships, to look perfect and make money and be popular and well-respected and admired and a total baller to the point that people part like the Red Sea when they walk into the room.A more interesting question, a question that most people never consider, is, “What pain do you   want in your life?But you don’t end up with one unless you legitimately appreciate the pain and physical stress that come with living inside a gym for hour upon hour, unless you love calculating and calibrating the food you eat, planning your life out in tiny plate–sized portions.'"
      ]
     },
     "execution_count": 117,
     "metadata": {},
     "output_type": "execute_result"
    }
   ],
   "source": [
    "summarizer_ts= TextRankSummarizer(Stemmer(language))\n",
    "summarizer_ts.stop_words = get_stop_words(language)\n",
    "summary_ts = summarizer_ts(parser1.document, 10)\n",
    "lex=[str(sentence) for sentence in summary_ts]\n",
    "sum_ts= ''.join(lex)\n",
    "sum_ts"
   ]
  },
  {
   "cell_type": "code",
   "execution_count": 118,
   "metadata": {},
   "outputs": [],
   "source": [
    "parser2 = PlaintextParser(subtle_fuck['CHAPTER 3'][1], Tokenizer(language))"
   ]
  },
  {
   "cell_type": "code",
   "execution_count": 123,
   "metadata": {},
   "outputs": [
    {
     "data": {
      "text/plain": [
       "'On any given day, if you asked him what he was doing, he’d rattle off the name of some firm he was consulting with, or he’d describe a promising medical app he was looking for angel investors to fund, or he’d talk about some charity event he was supposed to be the keynote speaker for, or howhe had an idea for a more efficient type of gas pump that was going to make him billions.I sat in my 9:00 A.M. biology class, arms cradling my head on my desk as I stared at the clock’s second hand making laps, each tick syncopated with the teacher ’s dronings-on about chromosomes and mitosis.Each is loaded with its own silly teen desiderata—colored pens, old notes passed in class, early-nineties CDs with cracked cases, dried-up markers, an old sketchpad with half its pages missing, dust and lint and crap accumulated during a maddeningly circuitous middle school existence.My sweat must be pumping at the speed of light, because time extends itself and dilates such that what is mere seconds on that 9:00 A.M. second-period biology clock nowfeels like Paleolithic eons, and I’m growing up and dying every minute.And those same narratives are still circulating: to be a cool guy, you have to party like a rock star; to be respected, you have to be admired by women; sex is the most valuable thing a man can attain, and it’s worth sacrificing anything (including your own dignity) to get it.'"
      ]
     },
     "execution_count": 123,
     "metadata": {},
     "output_type": "execute_result"
    }
   ],
   "source": [
    "summarizer_lss = LsaSummarizer(Stemmer(language))\n",
    "summarizer_lss.stop_words = get_stop_words(language)\n",
    "summary_lss = summarizer_lss(parser2.document, 5)\n",
    "lex=[str(sentence) for sentence in summary_lss]\n",
    "sum_lss= ''.join(lex)\n",
    "sum_lss"
   ]
  },
  {
   "cell_type": "code",
   "execution_count": null,
   "metadata": {},
   "outputs": [],
   "source": []
  }
 ],
 "metadata": {
  "kernelspec": {
   "display_name": "Python 3",
   "language": "python",
   "name": "python3"
  },
  "language_info": {
   "codemirror_mode": {
    "name": "ipython",
    "version": 3
   },
   "file_extension": ".py",
   "mimetype": "text/x-python",
   "name": "python",
   "nbconvert_exporter": "python",
   "pygments_lexer": "ipython3",
   "version": "3.7.4"
  }
 },
 "nbformat": 4,
 "nbformat_minor": 4
}
